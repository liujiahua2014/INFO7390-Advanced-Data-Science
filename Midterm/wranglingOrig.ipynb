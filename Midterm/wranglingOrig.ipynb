{
 "cells": [
  {
   "cell_type": "code",
   "execution_count": 103,
   "metadata": {
    "collapsed": true
   },
   "outputs": [],
   "source": [
    "import pandas as pd\n",
    "import seaborn as sns\n",
    "import matplotlib.pyplot as plt\n",
    "\n",
    "pd.set_option('display.max_columns', None)\n",
    "pd.set_option('display.max_rows', None)\n",
    "\n",
    "%matplotlib inline\n",
    "plt.rcParams['figure.figsize'] = (9,6)"
   ]
  },
  {
   "cell_type": "code",
   "execution_count": null,
   "metadata": {
    "collapsed": true
   },
   "outputs": [],
   "source": []
  },
  {
   "cell_type": "code",
   "execution_count": 64,
   "metadata": {
    "collapsed": true
   },
   "outputs": [],
   "source": [
    "def calMean(df, col):\n",
    "    std = df[col].std()\n",
    "    mean = df[col].mean()\n",
    "    left = mean - 1.5 * std\n",
    "    right = mean + 1.5 * std\n",
    "    realMean = df[(df[col] > left) & (df[col] < right)][col].mean()\n",
    "    return realMean"
   ]
  },
  {
   "cell_type": "code",
   "execution_count": 21,
   "metadata": {
    "collapsed": true
   },
   "outputs": [],
   "source": []
  },
  {
   "cell_type": "code",
   "execution_count": 3,
   "metadata": {
    "collapsed": true
   },
   "outputs": [],
   "source": [
    "orig_col_headers = ['credit_score', 'first_payment_date', 'first_time_homebuyer_flag', 'maturity_date', 'metropolitan_stat_area', 'mortgage_insurance_perc', 'no_unit', 'occupancy_status', 'orig_combined_loantovalue', 'orig_debttoincome', 'orig_upb', 'orig_loantovalue', 'orig_interest_rate', 'channel', 'prepayment_penalty_mortgage_flag', 'product_type', 'property_state', 'property_type', 'postal_code', 'loan_sequence_no', 'loan_purpose', 'orig_loan_term', 'no_borrower', 'seller_name', 'service_name', 'super_conforming_flag']"
   ]
  },
  {
   "cell_type": "code",
   "execution_count": 4,
   "metadata": {
    "collapsed": true
   },
   "outputs": [],
   "source": [
    "perform_col_headers = ['loan_sequence_no', 'monthly_reporting_period', 'curr_actual_upb', 'curr_loan_delinquency_status', 'loan_age', 'remaining_months_to_legal_maturity', 'repurchase_flag', 'modification_flag', 'zero_balance_code', 'zero_balance_effective_date', 'curr_interest_rate', 'curr_deferred_upb', 'due_date_last_paid_installment', 'mi_recoveries', 'net_sales_proceeds', 'non_mi_recoveries', 'expenses', 'legal_costs', 'maintain_preserve_costs', 'tax_insurance', 'miscellaneous_expense', 'actual_loss_calculation', 'modification_cost']"
   ]
  },
  {
   "cell_type": "code",
   "execution_count": null,
   "metadata": {
    "collapsed": true
   },
   "outputs": [],
   "source": []
  },
  {
   "cell_type": "code",
   "execution_count": 168,
   "metadata": {
    "collapsed": true
   },
   "outputs": [],
   "source": [
    "orig_df = pd.read_csv('historical_data1_Q22007/historical_data1_Q22007.txt', sep='|', names=orig_col_headers)"
   ]
  },
  {
   "cell_type": "code",
   "execution_count": 152,
   "metadata": {
    "collapsed": true
   },
   "outputs": [],
   "source": [
    "orig_df = pd.read_csv('sample_2005/sample_orig_2005.txt', sep='|', names=orig_col_headers)"
   ]
  },
  {
   "cell_type": "code",
   "execution_count": null,
   "metadata": {
    "collapsed": true
   },
   "outputs": [],
   "source": []
  },
  {
   "cell_type": "code",
   "execution_count": 169,
   "metadata": {},
   "outputs": [
    {
     "data": {
      "text/html": [
       "<div>\n",
       "<style>\n",
       "    .dataframe thead tr:only-child th {\n",
       "        text-align: right;\n",
       "    }\n",
       "\n",
       "    .dataframe thead th {\n",
       "        text-align: left;\n",
       "    }\n",
       "\n",
       "    .dataframe tbody tr th {\n",
       "        vertical-align: top;\n",
       "    }\n",
       "</style>\n",
       "<table border=\"1\" class=\"dataframe\">\n",
       "  <thead>\n",
       "    <tr style=\"text-align: right;\">\n",
       "      <th></th>\n",
       "      <th>credit_score</th>\n",
       "      <th>first_payment_date</th>\n",
       "      <th>first_time_homebuyer_flag</th>\n",
       "      <th>maturity_date</th>\n",
       "      <th>metropolitan_stat_area</th>\n",
       "      <th>mortgage_insurance_perc</th>\n",
       "      <th>no_unit</th>\n",
       "      <th>occupancy_status</th>\n",
       "      <th>orig_combined_loantovalue</th>\n",
       "      <th>orig_debttoincome</th>\n",
       "      <th>orig_upb</th>\n",
       "      <th>orig_loantovalue</th>\n",
       "      <th>orig_interest_rate</th>\n",
       "      <th>channel</th>\n",
       "      <th>prepayment_penalty_mortgage_flag</th>\n",
       "      <th>product_type</th>\n",
       "      <th>property_state</th>\n",
       "      <th>property_type</th>\n",
       "      <th>postal_code</th>\n",
       "      <th>loan_sequence_no</th>\n",
       "      <th>loan_purpose</th>\n",
       "      <th>orig_loan_term</th>\n",
       "      <th>no_borrower</th>\n",
       "      <th>seller_name</th>\n",
       "      <th>service_name</th>\n",
       "      <th>super_conforming_flag</th>\n",
       "    </tr>\n",
       "  </thead>\n",
       "  <tbody>\n",
       "    <tr>\n",
       "      <th>0</th>\n",
       "      <td>784</td>\n",
       "      <td>200707</td>\n",
       "      <td>N</td>\n",
       "      <td>203706</td>\n",
       "      <td>NaN</td>\n",
       "      <td>0</td>\n",
       "      <td>1</td>\n",
       "      <td>O</td>\n",
       "      <td>80.0</td>\n",
       "      <td>20</td>\n",
       "      <td>104000</td>\n",
       "      <td>80.0</td>\n",
       "      <td>6.375</td>\n",
       "      <td>R</td>\n",
       "      <td>N</td>\n",
       "      <td>FRM</td>\n",
       "      <td>IL</td>\n",
       "      <td>SF</td>\n",
       "      <td>61300</td>\n",
       "      <td>F107Q2000001</td>\n",
       "      <td>P</td>\n",
       "      <td>360</td>\n",
       "      <td>1.0</td>\n",
       "      <td>Other sellers</td>\n",
       "      <td>Other servicers</td>\n",
       "      <td>NaN</td>\n",
       "    </tr>\n",
       "    <tr>\n",
       "      <th>1</th>\n",
       "      <td>787</td>\n",
       "      <td>200706</td>\n",
       "      <td>N</td>\n",
       "      <td>203705</td>\n",
       "      <td>48300.0</td>\n",
       "      <td>30</td>\n",
       "      <td>1</td>\n",
       "      <td>O</td>\n",
       "      <td>95.0</td>\n",
       "      <td>26</td>\n",
       "      <td>110000</td>\n",
       "      <td>95.0</td>\n",
       "      <td>6.000</td>\n",
       "      <td>R</td>\n",
       "      <td>N</td>\n",
       "      <td>FRM</td>\n",
       "      <td>WA</td>\n",
       "      <td>MH</td>\n",
       "      <td>98800</td>\n",
       "      <td>F107Q2000002</td>\n",
       "      <td>P</td>\n",
       "      <td>360</td>\n",
       "      <td>2.0</td>\n",
       "      <td>Other sellers</td>\n",
       "      <td>Other servicers</td>\n",
       "      <td>NaN</td>\n",
       "    </tr>\n",
       "    <tr>\n",
       "      <th>2</th>\n",
       "      <td>755</td>\n",
       "      <td>200706</td>\n",
       "      <td>N</td>\n",
       "      <td>203705</td>\n",
       "      <td>38860.0</td>\n",
       "      <td>0</td>\n",
       "      <td>1</td>\n",
       "      <td>O</td>\n",
       "      <td>33.0</td>\n",
       "      <td>29</td>\n",
       "      <td>60000</td>\n",
       "      <td>28.0</td>\n",
       "      <td>6.125</td>\n",
       "      <td>R</td>\n",
       "      <td>N</td>\n",
       "      <td>FRM</td>\n",
       "      <td>ME</td>\n",
       "      <td>SF</td>\n",
       "      <td>4000</td>\n",
       "      <td>F107Q2000003</td>\n",
       "      <td>C</td>\n",
       "      <td>360</td>\n",
       "      <td>1.0</td>\n",
       "      <td>Other sellers</td>\n",
       "      <td>Other servicers</td>\n",
       "      <td>NaN</td>\n",
       "    </tr>\n",
       "    <tr>\n",
       "      <th>3</th>\n",
       "      <td>710</td>\n",
       "      <td>200706</td>\n",
       "      <td>N</td>\n",
       "      <td>203705</td>\n",
       "      <td>19380.0</td>\n",
       "      <td>30</td>\n",
       "      <td>1</td>\n",
       "      <td>O</td>\n",
       "      <td>92.0</td>\n",
       "      <td>47</td>\n",
       "      <td>151000</td>\n",
       "      <td>92.0</td>\n",
       "      <td>6.250</td>\n",
       "      <td>R</td>\n",
       "      <td>N</td>\n",
       "      <td>FRM</td>\n",
       "      <td>OH</td>\n",
       "      <td>SF</td>\n",
       "      <td>45300</td>\n",
       "      <td>F107Q2000004</td>\n",
       "      <td>N</td>\n",
       "      <td>360</td>\n",
       "      <td>1.0</td>\n",
       "      <td>Other sellers</td>\n",
       "      <td>USBANKNA</td>\n",
       "      <td>NaN</td>\n",
       "    </tr>\n",
       "    <tr>\n",
       "      <th>4</th>\n",
       "      <td>800</td>\n",
       "      <td>200706</td>\n",
       "      <td>N</td>\n",
       "      <td>203705</td>\n",
       "      <td>31540.0</td>\n",
       "      <td>0</td>\n",
       "      <td>1</td>\n",
       "      <td>O</td>\n",
       "      <td>67.0</td>\n",
       "      <td>59</td>\n",
       "      <td>185000</td>\n",
       "      <td>67.0</td>\n",
       "      <td>6.000</td>\n",
       "      <td>R</td>\n",
       "      <td>N</td>\n",
       "      <td>FRM</td>\n",
       "      <td>WI</td>\n",
       "      <td>SF</td>\n",
       "      <td>53900</td>\n",
       "      <td>F107Q2000005</td>\n",
       "      <td>N</td>\n",
       "      <td>360</td>\n",
       "      <td>2.0</td>\n",
       "      <td>Other sellers</td>\n",
       "      <td>Other servicers</td>\n",
       "      <td>NaN</td>\n",
       "    </tr>\n",
       "    <tr>\n",
       "      <th>5</th>\n",
       "      <td>673</td>\n",
       "      <td>200706</td>\n",
       "      <td>N</td>\n",
       "      <td>203705</td>\n",
       "      <td>15804.0</td>\n",
       "      <td>0</td>\n",
       "      <td>1</td>\n",
       "      <td>O</td>\n",
       "      <td>78.0</td>\n",
       "      <td>22</td>\n",
       "      <td>410000</td>\n",
       "      <td>78.0</td>\n",
       "      <td>6.375</td>\n",
       "      <td>R</td>\n",
       "      <td>N</td>\n",
       "      <td>FRM</td>\n",
       "      <td>NJ</td>\n",
       "      <td>SF</td>\n",
       "      <td>8000</td>\n",
       "      <td>F107Q2000006</td>\n",
       "      <td>N</td>\n",
       "      <td>360</td>\n",
       "      <td>1.0</td>\n",
       "      <td>Other sellers</td>\n",
       "      <td>USBANKNA</td>\n",
       "      <td>NaN</td>\n",
       "    </tr>\n",
       "    <tr>\n",
       "      <th>6</th>\n",
       "      <td>787</td>\n",
       "      <td>200707</td>\n",
       "      <td>N</td>\n",
       "      <td>203706</td>\n",
       "      <td>16580.0</td>\n",
       "      <td>25</td>\n",
       "      <td>1</td>\n",
       "      <td>O</td>\n",
       "      <td>87.0</td>\n",
       "      <td>30</td>\n",
       "      <td>285000</td>\n",
       "      <td>87.0</td>\n",
       "      <td>6.375</td>\n",
       "      <td>R</td>\n",
       "      <td>N</td>\n",
       "      <td>FRM</td>\n",
       "      <td>IL</td>\n",
       "      <td>SF</td>\n",
       "      <td>61800</td>\n",
       "      <td>F107Q2000007</td>\n",
       "      <td>P</td>\n",
       "      <td>360</td>\n",
       "      <td>2.0</td>\n",
       "      <td>Other sellers</td>\n",
       "      <td>Other servicers</td>\n",
       "      <td>NaN</td>\n",
       "    </tr>\n",
       "    <tr>\n",
       "      <th>7</th>\n",
       "      <td>719</td>\n",
       "      <td>200708</td>\n",
       "      <td>N</td>\n",
       "      <td>203707</td>\n",
       "      <td>NaN</td>\n",
       "      <td>0</td>\n",
       "      <td>2</td>\n",
       "      <td>I</td>\n",
       "      <td>80.0</td>\n",
       "      <td>43</td>\n",
       "      <td>72000</td>\n",
       "      <td>80.0</td>\n",
       "      <td>7.000</td>\n",
       "      <td>R</td>\n",
       "      <td>N</td>\n",
       "      <td>FRM</td>\n",
       "      <td>OH</td>\n",
       "      <td>SF</td>\n",
       "      <td>43300</td>\n",
       "      <td>F107Q2000008</td>\n",
       "      <td>N</td>\n",
       "      <td>360</td>\n",
       "      <td>2.0</td>\n",
       "      <td>Other sellers</td>\n",
       "      <td>Other servicers</td>\n",
       "      <td>NaN</td>\n",
       "    </tr>\n",
       "    <tr>\n",
       "      <th>8</th>\n",
       "      <td>779</td>\n",
       "      <td>200708</td>\n",
       "      <td>Y</td>\n",
       "      <td>203707</td>\n",
       "      <td>16974.0</td>\n",
       "      <td>30</td>\n",
       "      <td>1</td>\n",
       "      <td>O</td>\n",
       "      <td>93.0</td>\n",
       "      <td>27</td>\n",
       "      <td>185000</td>\n",
       "      <td>93.0</td>\n",
       "      <td>6.750</td>\n",
       "      <td>R</td>\n",
       "      <td>N</td>\n",
       "      <td>FRM</td>\n",
       "      <td>IL</td>\n",
       "      <td>SF</td>\n",
       "      <td>60100</td>\n",
       "      <td>F107Q2000009</td>\n",
       "      <td>P</td>\n",
       "      <td>360</td>\n",
       "      <td>1.0</td>\n",
       "      <td>Other sellers</td>\n",
       "      <td>Other servicers</td>\n",
       "      <td>NaN</td>\n",
       "    </tr>\n",
       "    <tr>\n",
       "      <th>9</th>\n",
       "      <td>806</td>\n",
       "      <td>200706</td>\n",
       "      <td>N</td>\n",
       "      <td>203705</td>\n",
       "      <td>NaN</td>\n",
       "      <td>0</td>\n",
       "      <td>1</td>\n",
       "      <td>O</td>\n",
       "      <td>30.0</td>\n",
       "      <td>54</td>\n",
       "      <td>57000</td>\n",
       "      <td>30.0</td>\n",
       "      <td>6.375</td>\n",
       "      <td>R</td>\n",
       "      <td>N</td>\n",
       "      <td>FRM</td>\n",
       "      <td>IN</td>\n",
       "      <td>SF</td>\n",
       "      <td>47500</td>\n",
       "      <td>F107Q2000010</td>\n",
       "      <td>N</td>\n",
       "      <td>360</td>\n",
       "      <td>2.0</td>\n",
       "      <td>Other sellers</td>\n",
       "      <td>Other servicers</td>\n",
       "      <td>NaN</td>\n",
       "    </tr>\n",
       "    <tr>\n",
       "      <th>10</th>\n",
       "      <td>693</td>\n",
       "      <td>200706</td>\n",
       "      <td>N</td>\n",
       "      <td>203705</td>\n",
       "      <td>13780.0</td>\n",
       "      <td>0</td>\n",
       "      <td>2</td>\n",
       "      <td>I</td>\n",
       "      <td>70.0</td>\n",
       "      <td>41</td>\n",
       "      <td>81000</td>\n",
       "      <td>70.0</td>\n",
       "      <td>7.000</td>\n",
       "      <td>R</td>\n",
       "      <td>N</td>\n",
       "      <td>FRM</td>\n",
       "      <td>NY</td>\n",
       "      <td>SF</td>\n",
       "      <td>13900</td>\n",
       "      <td>F107Q2000011</td>\n",
       "      <td>C</td>\n",
       "      <td>360</td>\n",
       "      <td>2.0</td>\n",
       "      <td>Other sellers</td>\n",
       "      <td>Other servicers</td>\n",
       "      <td>NaN</td>\n",
       "    </tr>\n",
       "    <tr>\n",
       "      <th>11</th>\n",
       "      <td>678</td>\n",
       "      <td>200706</td>\n",
       "      <td>N</td>\n",
       "      <td>203705</td>\n",
       "      <td>21300.0</td>\n",
       "      <td>0</td>\n",
       "      <td>1</td>\n",
       "      <td>O</td>\n",
       "      <td>57.0</td>\n",
       "      <td>18</td>\n",
       "      <td>50000</td>\n",
       "      <td>57.0</td>\n",
       "      <td>5.875</td>\n",
       "      <td>R</td>\n",
       "      <td>N</td>\n",
       "      <td>FRM</td>\n",
       "      <td>NY</td>\n",
       "      <td>SF</td>\n",
       "      <td>14900</td>\n",
       "      <td>F107Q2000012</td>\n",
       "      <td>P</td>\n",
       "      <td>360</td>\n",
       "      <td>2.0</td>\n",
       "      <td>Other sellers</td>\n",
       "      <td>Other servicers</td>\n",
       "      <td>NaN</td>\n",
       "    </tr>\n",
       "    <tr>\n",
       "      <th>12</th>\n",
       "      <td>651</td>\n",
       "      <td>200708</td>\n",
       "      <td>N</td>\n",
       "      <td>203707</td>\n",
       "      <td>35660.0</td>\n",
       "      <td>0</td>\n",
       "      <td>1</td>\n",
       "      <td>O</td>\n",
       "      <td>71.0</td>\n",
       "      <td></td>\n",
       "      <td>168000</td>\n",
       "      <td>67.0</td>\n",
       "      <td>7.000</td>\n",
       "      <td>R</td>\n",
       "      <td>N</td>\n",
       "      <td>FRM</td>\n",
       "      <td>MI</td>\n",
       "      <td>SF</td>\n",
       "      <td>49100</td>\n",
       "      <td>F107Q2000013</td>\n",
       "      <td>C</td>\n",
       "      <td>360</td>\n",
       "      <td>1.0</td>\n",
       "      <td>Other sellers</td>\n",
       "      <td>Other servicers</td>\n",
       "      <td>NaN</td>\n",
       "    </tr>\n",
       "    <tr>\n",
       "      <th>13</th>\n",
       "      <td>715</td>\n",
       "      <td>200707</td>\n",
       "      <td>N</td>\n",
       "      <td>203706</td>\n",
       "      <td>NaN</td>\n",
       "      <td>0</td>\n",
       "      <td>1</td>\n",
       "      <td>O</td>\n",
       "      <td>41.0</td>\n",
       "      <td>15</td>\n",
       "      <td>107000</td>\n",
       "      <td>41.0</td>\n",
       "      <td>6.750</td>\n",
       "      <td>R</td>\n",
       "      <td>N</td>\n",
       "      <td>FRM</td>\n",
       "      <td>KY</td>\n",
       "      <td>SF</td>\n",
       "      <td>40300</td>\n",
       "      <td>F107Q2000014</td>\n",
       "      <td>N</td>\n",
       "      <td>360</td>\n",
       "      <td>2.0</td>\n",
       "      <td>Other sellers</td>\n",
       "      <td>USBANKNA</td>\n",
       "      <td>NaN</td>\n",
       "    </tr>\n",
       "    <tr>\n",
       "      <th>14</th>\n",
       "      <td>674</td>\n",
       "      <td>200706</td>\n",
       "      <td>N</td>\n",
       "      <td>203705</td>\n",
       "      <td>NaN</td>\n",
       "      <td>12</td>\n",
       "      <td>1</td>\n",
       "      <td>O</td>\n",
       "      <td>91.0</td>\n",
       "      <td>38</td>\n",
       "      <td>93000</td>\n",
       "      <td>82.0</td>\n",
       "      <td>6.375</td>\n",
       "      <td>R</td>\n",
       "      <td>N</td>\n",
       "      <td>FRM</td>\n",
       "      <td>IN</td>\n",
       "      <td>SF</td>\n",
       "      <td>47500</td>\n",
       "      <td>F107Q2000015</td>\n",
       "      <td>N</td>\n",
       "      <td>360</td>\n",
       "      <td>1.0</td>\n",
       "      <td>Other sellers</td>\n",
       "      <td>Other servicers</td>\n",
       "      <td>NaN</td>\n",
       "    </tr>\n",
       "    <tr>\n",
       "      <th>15</th>\n",
       "      <td>724</td>\n",
       "      <td>200706</td>\n",
       "      <td>N</td>\n",
       "      <td>203705</td>\n",
       "      <td>NaN</td>\n",
       "      <td>0</td>\n",
       "      <td>1</td>\n",
       "      <td>O</td>\n",
       "      <td>95.0</td>\n",
       "      <td>31</td>\n",
       "      <td>190000</td>\n",
       "      <td>80.0</td>\n",
       "      <td>6.125</td>\n",
       "      <td>R</td>\n",
       "      <td>N</td>\n",
       "      <td>FRM</td>\n",
       "      <td>IL</td>\n",
       "      <td>SF</td>\n",
       "      <td>61300</td>\n",
       "      <td>F107Q2000016</td>\n",
       "      <td>P</td>\n",
       "      <td>360</td>\n",
       "      <td>2.0</td>\n",
       "      <td>Other sellers</td>\n",
       "      <td>USBANKNA</td>\n",
       "      <td>NaN</td>\n",
       "    </tr>\n",
       "    <tr>\n",
       "      <th>16</th>\n",
       "      <td>757</td>\n",
       "      <td>200706</td>\n",
       "      <td>N</td>\n",
       "      <td>203705</td>\n",
       "      <td>NaN</td>\n",
       "      <td>0</td>\n",
       "      <td>1</td>\n",
       "      <td>O</td>\n",
       "      <td>77.0</td>\n",
       "      <td>65</td>\n",
       "      <td>73000</td>\n",
       "      <td>77.0</td>\n",
       "      <td>6.250</td>\n",
       "      <td>R</td>\n",
       "      <td>N</td>\n",
       "      <td>FRM</td>\n",
       "      <td>KY</td>\n",
       "      <td>SF</td>\n",
       "      <td>42100</td>\n",
       "      <td>F107Q2000017</td>\n",
       "      <td>N</td>\n",
       "      <td>360</td>\n",
       "      <td>1.0</td>\n",
       "      <td>Other sellers</td>\n",
       "      <td>Other servicers</td>\n",
       "      <td>NaN</td>\n",
       "    </tr>\n",
       "    <tr>\n",
       "      <th>17</th>\n",
       "      <td>815</td>\n",
       "      <td>200706</td>\n",
       "      <td>N</td>\n",
       "      <td>203705</td>\n",
       "      <td>NaN</td>\n",
       "      <td>0</td>\n",
       "      <td>1</td>\n",
       "      <td>I</td>\n",
       "      <td>74.0</td>\n",
       "      <td>48</td>\n",
       "      <td>100000</td>\n",
       "      <td>74.0</td>\n",
       "      <td>6.625</td>\n",
       "      <td>R</td>\n",
       "      <td>N</td>\n",
       "      <td>FRM</td>\n",
       "      <td>CO</td>\n",
       "      <td>SF</td>\n",
       "      <td>81200</td>\n",
       "      <td>F107Q2000018</td>\n",
       "      <td>P</td>\n",
       "      <td>360</td>\n",
       "      <td>1.0</td>\n",
       "      <td>Other sellers</td>\n",
       "      <td>USBANKNA</td>\n",
       "      <td>NaN</td>\n",
       "    </tr>\n",
       "    <tr>\n",
       "      <th>18</th>\n",
       "      <td>790</td>\n",
       "      <td>200706</td>\n",
       "      <td>N</td>\n",
       "      <td>203705</td>\n",
       "      <td>NaN</td>\n",
       "      <td>0</td>\n",
       "      <td>1</td>\n",
       "      <td>O</td>\n",
       "      <td>55.0</td>\n",
       "      <td>58</td>\n",
       "      <td>220000</td>\n",
       "      <td>55.0</td>\n",
       "      <td>6.000</td>\n",
       "      <td>R</td>\n",
       "      <td>N</td>\n",
       "      <td>FRM</td>\n",
       "      <td>GA</td>\n",
       "      <td>SF</td>\n",
       "      <td>31700</td>\n",
       "      <td>F107Q2000019</td>\n",
       "      <td>N</td>\n",
       "      <td>360</td>\n",
       "      <td>2.0</td>\n",
       "      <td>Other sellers</td>\n",
       "      <td>USBANKNA</td>\n",
       "      <td>NaN</td>\n",
       "    </tr>\n",
       "    <tr>\n",
       "      <th>19</th>\n",
       "      <td>757</td>\n",
       "      <td>200706</td>\n",
       "      <td>N</td>\n",
       "      <td>203705</td>\n",
       "      <td>NaN</td>\n",
       "      <td>0</td>\n",
       "      <td>1</td>\n",
       "      <td>O</td>\n",
       "      <td>53.0</td>\n",
       "      <td>49</td>\n",
       "      <td>46000</td>\n",
       "      <td>53.0</td>\n",
       "      <td>7.250</td>\n",
       "      <td>R</td>\n",
       "      <td>N</td>\n",
       "      <td>FRM</td>\n",
       "      <td>MO</td>\n",
       "      <td>MH</td>\n",
       "      <td>65700</td>\n",
       "      <td>F107Q2000020</td>\n",
       "      <td>N</td>\n",
       "      <td>360</td>\n",
       "      <td>1.0</td>\n",
       "      <td>Other sellers</td>\n",
       "      <td>Other servicers</td>\n",
       "      <td>NaN</td>\n",
       "    </tr>\n",
       "  </tbody>\n",
       "</table>\n",
       "</div>"
      ],
      "text/plain": [
       "   credit_score  first_payment_date first_time_homebuyer_flag  maturity_date  \\\n",
       "0           784              200707                         N         203706   \n",
       "1           787              200706                         N         203705   \n",
       "2           755              200706                         N         203705   \n",
       "3           710              200706                         N         203705   \n",
       "4           800              200706                         N         203705   \n",
       "5           673              200706                         N         203705   \n",
       "6           787              200707                         N         203706   \n",
       "7           719              200708                         N         203707   \n",
       "8           779              200708                         Y         203707   \n",
       "9           806              200706                         N         203705   \n",
       "10          693              200706                         N         203705   \n",
       "11          678              200706                         N         203705   \n",
       "12          651              200708                         N         203707   \n",
       "13          715              200707                         N         203706   \n",
       "14          674              200706                         N         203705   \n",
       "15          724              200706                         N         203705   \n",
       "16          757              200706                         N         203705   \n",
       "17          815              200706                         N         203705   \n",
       "18          790              200706                         N         203705   \n",
       "19          757              200706                         N         203705   \n",
       "\n",
       "    metropolitan_stat_area  mortgage_insurance_perc  no_unit occupancy_status  \\\n",
       "0                      NaN                        0        1                O   \n",
       "1                  48300.0                       30        1                O   \n",
       "2                  38860.0                        0        1                O   \n",
       "3                  19380.0                       30        1                O   \n",
       "4                  31540.0                        0        1                O   \n",
       "5                  15804.0                        0        1                O   \n",
       "6                  16580.0                       25        1                O   \n",
       "7                      NaN                        0        2                I   \n",
       "8                  16974.0                       30        1                O   \n",
       "9                      NaN                        0        1                O   \n",
       "10                 13780.0                        0        2                I   \n",
       "11                 21300.0                        0        1                O   \n",
       "12                 35660.0                        0        1                O   \n",
       "13                     NaN                        0        1                O   \n",
       "14                     NaN                       12        1                O   \n",
       "15                     NaN                        0        1                O   \n",
       "16                     NaN                        0        1                O   \n",
       "17                     NaN                        0        1                I   \n",
       "18                     NaN                        0        1                O   \n",
       "19                     NaN                        0        1                O   \n",
       "\n",
       "    orig_combined_loantovalue orig_debttoincome  orig_upb  orig_loantovalue  \\\n",
       "0                        80.0                20    104000              80.0   \n",
       "1                        95.0                26    110000              95.0   \n",
       "2                        33.0                29     60000              28.0   \n",
       "3                        92.0                47    151000              92.0   \n",
       "4                        67.0                59    185000              67.0   \n",
       "5                        78.0                22    410000              78.0   \n",
       "6                        87.0                30    285000              87.0   \n",
       "7                        80.0                43     72000              80.0   \n",
       "8                        93.0                27    185000              93.0   \n",
       "9                        30.0                54     57000              30.0   \n",
       "10                       70.0                41     81000              70.0   \n",
       "11                       57.0                18     50000              57.0   \n",
       "12                       71.0                      168000              67.0   \n",
       "13                       41.0                15    107000              41.0   \n",
       "14                       91.0                38     93000              82.0   \n",
       "15                       95.0                31    190000              80.0   \n",
       "16                       77.0                65     73000              77.0   \n",
       "17                       74.0                48    100000              74.0   \n",
       "18                       55.0                58    220000              55.0   \n",
       "19                       53.0                49     46000              53.0   \n",
       "\n",
       "    orig_interest_rate channel prepayment_penalty_mortgage_flag product_type  \\\n",
       "0                6.375       R                                N          FRM   \n",
       "1                6.000       R                                N          FRM   \n",
       "2                6.125       R                                N          FRM   \n",
       "3                6.250       R                                N          FRM   \n",
       "4                6.000       R                                N          FRM   \n",
       "5                6.375       R                                N          FRM   \n",
       "6                6.375       R                                N          FRM   \n",
       "7                7.000       R                                N          FRM   \n",
       "8                6.750       R                                N          FRM   \n",
       "9                6.375       R                                N          FRM   \n",
       "10               7.000       R                                N          FRM   \n",
       "11               5.875       R                                N          FRM   \n",
       "12               7.000       R                                N          FRM   \n",
       "13               6.750       R                                N          FRM   \n",
       "14               6.375       R                                N          FRM   \n",
       "15               6.125       R                                N          FRM   \n",
       "16               6.250       R                                N          FRM   \n",
       "17               6.625       R                                N          FRM   \n",
       "18               6.000       R                                N          FRM   \n",
       "19               7.250       R                                N          FRM   \n",
       "\n",
       "   property_state property_type  postal_code loan_sequence_no loan_purpose  \\\n",
       "0              IL            SF        61300     F107Q2000001            P   \n",
       "1              WA            MH        98800     F107Q2000002            P   \n",
       "2              ME            SF         4000     F107Q2000003            C   \n",
       "3              OH            SF        45300     F107Q2000004            N   \n",
       "4              WI            SF        53900     F107Q2000005            N   \n",
       "5              NJ            SF         8000     F107Q2000006            N   \n",
       "6              IL            SF        61800     F107Q2000007            P   \n",
       "7              OH            SF        43300     F107Q2000008            N   \n",
       "8              IL            SF        60100     F107Q2000009            P   \n",
       "9              IN            SF        47500     F107Q2000010            N   \n",
       "10             NY            SF        13900     F107Q2000011            C   \n",
       "11             NY            SF        14900     F107Q2000012            P   \n",
       "12             MI            SF        49100     F107Q2000013            C   \n",
       "13             KY            SF        40300     F107Q2000014            N   \n",
       "14             IN            SF        47500     F107Q2000015            N   \n",
       "15             IL            SF        61300     F107Q2000016            P   \n",
       "16             KY            SF        42100     F107Q2000017            N   \n",
       "17             CO            SF        81200     F107Q2000018            P   \n",
       "18             GA            SF        31700     F107Q2000019            N   \n",
       "19             MO            MH        65700     F107Q2000020            N   \n",
       "\n",
       "    orig_loan_term  no_borrower    seller_name     service_name  \\\n",
       "0              360          1.0  Other sellers  Other servicers   \n",
       "1              360          2.0  Other sellers  Other servicers   \n",
       "2              360          1.0  Other sellers  Other servicers   \n",
       "3              360          1.0  Other sellers         USBANKNA   \n",
       "4              360          2.0  Other sellers  Other servicers   \n",
       "5              360          1.0  Other sellers         USBANKNA   \n",
       "6              360          2.0  Other sellers  Other servicers   \n",
       "7              360          2.0  Other sellers  Other servicers   \n",
       "8              360          1.0  Other sellers  Other servicers   \n",
       "9              360          2.0  Other sellers  Other servicers   \n",
       "10             360          2.0  Other sellers  Other servicers   \n",
       "11             360          2.0  Other sellers  Other servicers   \n",
       "12             360          1.0  Other sellers  Other servicers   \n",
       "13             360          2.0  Other sellers         USBANKNA   \n",
       "14             360          1.0  Other sellers  Other servicers   \n",
       "15             360          2.0  Other sellers         USBANKNA   \n",
       "16             360          1.0  Other sellers  Other servicers   \n",
       "17             360          1.0  Other sellers         USBANKNA   \n",
       "18             360          2.0  Other sellers         USBANKNA   \n",
       "19             360          1.0  Other sellers  Other servicers   \n",
       "\n",
       "    super_conforming_flag  \n",
       "0                     NaN  \n",
       "1                     NaN  \n",
       "2                     NaN  \n",
       "3                     NaN  \n",
       "4                     NaN  \n",
       "5                     NaN  \n",
       "6                     NaN  \n",
       "7                     NaN  \n",
       "8                     NaN  \n",
       "9                     NaN  \n",
       "10                    NaN  \n",
       "11                    NaN  \n",
       "12                    NaN  \n",
       "13                    NaN  \n",
       "14                    NaN  \n",
       "15                    NaN  \n",
       "16                    NaN  \n",
       "17                    NaN  \n",
       "18                    NaN  \n",
       "19                    NaN  "
      ]
     },
     "execution_count": 169,
     "metadata": {},
     "output_type": "execute_result"
    }
   ],
   "source": [
    "orig_df.head(20)"
   ]
  },
  {
   "cell_type": "code",
   "execution_count": null,
   "metadata": {
    "collapsed": true
   },
   "outputs": [],
   "source": []
  },
  {
   "cell_type": "code",
   "execution_count": 154,
   "metadata": {},
   "outputs": [
    {
     "data": {
      "text/plain": [
       "credit_score                         object\n",
       "first_payment_date                    int64\n",
       "first_time_homebuyer_flag            object\n",
       "maturity_date                         int64\n",
       "metropolitan_stat_area              float64\n",
       "mortgage_insurance_perc              object\n",
       "no_unit                               int64\n",
       "occupancy_status                     object\n",
       "orig_combined_loantovalue           float64\n",
       "orig_debttoincome                    object\n",
       "orig_upb                              int64\n",
       "orig_loantovalue                    float64\n",
       "orig_interest_rate                  float64\n",
       "channel                              object\n",
       "prepayment_penalty_mortgage_flag     object\n",
       "product_type                         object\n",
       "property_state                       object\n",
       "property_type                        object\n",
       "postal_code                         float64\n",
       "loan_sequence_no                     object\n",
       "loan_purpose                         object\n",
       "orig_loan_term                        int64\n",
       "no_borrower                         float64\n",
       "seller_name                          object\n",
       "service_name                         object\n",
       "super_conforming_flag               float64\n",
       "dtype: object"
      ]
     },
     "execution_count": 154,
     "metadata": {},
     "output_type": "execute_result"
    }
   ],
   "source": [
    "orig_df.dtypes"
   ]
  },
  {
   "cell_type": "code",
   "execution_count": null,
   "metadata": {
    "collapsed": true
   },
   "outputs": [],
   "source": []
  },
  {
   "cell_type": "markdown",
   "metadata": {},
   "source": [
    "Clean Credit Score column"
   ]
  },
  {
   "cell_type": "code",
   "execution_count": null,
   "metadata": {
    "collapsed": true
   },
   "outputs": [],
   "source": [
    "for index, row in orig_df.iterrows():\n",
    "    try:\n",
    "        int(row['credit_score'])\n",
    "        \n",
    "    except:\n",
    "        print([index, row['credit_score']])"
   ]
  },
  {
   "cell_type": "code",
   "execution_count": 75,
   "metadata": {
    "collapsed": true
   },
   "outputs": [],
   "source": [
    "orig_df.loc[orig_df['credit_score'] == \"   \", 'credit_score'] = 300     # Unknown"
   ]
  },
  {
   "cell_type": "code",
   "execution_count": 76,
   "metadata": {
    "collapsed": true
   },
   "outputs": [],
   "source": [
    "orig_df['credit_score'] = orig_df['credit_score'].astype(int)"
   ]
  },
  {
   "cell_type": "code",
   "execution_count": null,
   "metadata": {
    "collapsed": true
   },
   "outputs": [],
   "source": []
  },
  {
   "cell_type": "code",
   "execution_count": null,
   "metadata": {
    "collapsed": true
   },
   "outputs": [],
   "source": []
  },
  {
   "cell_type": "markdown",
   "metadata": {},
   "source": [
    "Clean orig_debttoincome"
   ]
  },
  {
   "cell_type": "code",
   "execution_count": 37,
   "metadata": {
    "collapsed": true
   },
   "outputs": [],
   "source": [
    "for index, row in orig_df.iterrows():\n",
    "    try:\n",
    "        int(row['orig_debttoincome'])\n",
    "    except:\n",
    "        print([index, row['orig_debttoincome']])"
   ]
  },
  {
   "cell_type": "code",
   "execution_count": 11,
   "metadata": {
    "collapsed": true
   },
   "outputs": [],
   "source": [
    "from random import randint"
   ]
  },
  {
   "cell_type": "code",
   "execution_count": 156,
   "metadata": {
    "collapsed": true
   },
   "outputs": [],
   "source": [
    "for ind, row in orig_df.iterrows():\n",
    "    if row['orig_debttoincome'] == \"   \":\n",
    "        orig_df.iloc[ind, orig_df.columns.get_loc('orig_debttoincome')] = randint(65, 70)"
   ]
  },
  {
   "cell_type": "code",
   "execution_count": null,
   "metadata": {
    "collapsed": true
   },
   "outputs": [],
   "source": []
  },
  {
   "cell_type": "code",
   "execution_count": null,
   "metadata": {
    "collapsed": true
   },
   "outputs": [],
   "source": []
  },
  {
   "cell_type": "code",
   "execution_count": 166,
   "metadata": {
    "collapsed": true
   },
   "outputs": [],
   "source": [
    "from numbers import Number"
   ]
  },
  {
   "cell_type": "code",
   "execution_count": 167,
   "metadata": {},
   "outputs": [
    {
     "data": {
      "text/plain": [
       "<matplotlib.axes._subplots.AxesSubplot at 0x20d1cbd4eb8>"
      ]
     },
     "execution_count": 167,
     "metadata": {},
     "output_type": "execute_result"
    },
    {
     "data": {
      "image/png": "[encoded data removed]",
      "text/plain": [
       "<matplotlib.figure.Figure at 0x20d1ce7fd30>"
      ]
     },
     "metadata": {},
     "output_type": "display_data"
    }
   ],
   "source": [
    "col = 'orig_debttoincome'\n",
    "new_df = orig_df[orig_df[col].apply(lambda x: isinstance(x, Number))]\n",
    "new_df[col] = new_df[col].astype(int)\n",
    "sns.distplot(new_df[col].values, bins=200, kde=False)"
   ]
  },
  {
   "cell_type": "code",
   "execution_count": 34,
   "metadata": {
    "collapsed": true
   },
   "outputs": [],
   "source": [
    "import numpy as np"
   ]
  },
  {
   "cell_type": "code",
   "execution_count": 158,
   "metadata": {},
   "outputs": [],
   "source": [
    "mean = calMean(new_df, 'orig_debttoincome')\n",
    "orig_df['orig_debttoincome'] = orig_df['orig_debttoincome'].fillna(mean)"
   ]
  },
  {
   "cell_type": "code",
   "execution_count": 96,
   "metadata": {
    "collapsed": true
   },
   "outputs": [],
   "source": [
    "orig_df['orig_debttoincome'] = orig_df['orig_debttoincome'].astype(int)"
   ]
  },
  {
   "cell_type": "code",
   "execution_count": null,
   "metadata": {
    "collapsed": true
   },
   "outputs": [],
   "source": []
  },
  {
   "cell_type": "markdown",
   "metadata": {
    "collapsed": true
   },
   "source": [
    "Missing Value Analysis"
   ]
  },
  {
   "cell_type": "code",
   "execution_count": 97,
   "metadata": {
    "scrolled": true
   },
   "outputs": [
    {
     "data": {
      "text/html": [
       "<div>\n",
       "<style>\n",
       "    .dataframe thead tr:only-child th {\n",
       "        text-align: right;\n",
       "    }\n",
       "\n",
       "    .dataframe thead th {\n",
       "        text-align: left;\n",
       "    }\n",
       "\n",
       "    .dataframe tbody tr th {\n",
       "        vertical-align: top;\n",
       "    }\n",
       "</style>\n",
       "<table border=\"1\" class=\"dataframe\">\n",
       "  <thead>\n",
       "    <tr style=\"text-align: right;\">\n",
       "      <th></th>\n",
       "      <th>col</th>\n",
       "      <th>missing_cnt</th>\n",
       "    </tr>\n",
       "  </thead>\n",
       "  <tbody>\n",
       "    <tr>\n",
       "      <th>2</th>\n",
       "      <td>first_time_homebuyer_flag</td>\n",
       "      <td>6065</td>\n",
       "    </tr>\n",
       "    <tr>\n",
       "      <th>4</th>\n",
       "      <td>metropolitan_stat_area</td>\n",
       "      <td>7913</td>\n",
       "    </tr>\n",
       "    <tr>\n",
       "      <th>8</th>\n",
       "      <td>orig_combined_loantovalue</td>\n",
       "      <td>6</td>\n",
       "    </tr>\n",
       "    <tr>\n",
       "      <th>11</th>\n",
       "      <td>orig_loantovalue</td>\n",
       "      <td>6</td>\n",
       "    </tr>\n",
       "    <tr>\n",
       "      <th>14</th>\n",
       "      <td>prepayment_penalty_mortgage_flag</td>\n",
       "      <td>49</td>\n",
       "    </tr>\n",
       "    <tr>\n",
       "      <th>18</th>\n",
       "      <td>postal_code</td>\n",
       "      <td>1</td>\n",
       "    </tr>\n",
       "    <tr>\n",
       "      <th>22</th>\n",
       "      <td>no_borrower</td>\n",
       "      <td>17</td>\n",
       "    </tr>\n",
       "    <tr>\n",
       "      <th>25</th>\n",
       "      <td>super_conforming_flag</td>\n",
       "      <td>50000</td>\n",
       "    </tr>\n",
       "  </tbody>\n",
       "</table>\n",
       "</div>"
      ],
      "text/plain": [
       "                                 col  missing_cnt\n",
       "2          first_time_homebuyer_flag         6065\n",
       "4             metropolitan_stat_area         7913\n",
       "8          orig_combined_loantovalue            6\n",
       "11                  orig_loantovalue            6\n",
       "14  prepayment_penalty_mortgage_flag           49\n",
       "18                       postal_code            1\n",
       "22                       no_borrower           17\n",
       "25             super_conforming_flag        50000"
      ]
     },
     "execution_count": 97,
     "metadata": {},
     "output_type": "execute_result"
    }
   ],
   "source": [
    "missing_df = orig_df.isnull().sum(axis=0).reset_index()\n",
    "missing_df.columns = ['col', 'missing_cnt']\n",
    "missing_df = missing_df[missing_df['missing_cnt'] > 0]\n",
    "missing_df"
   ]
  },
  {
   "cell_type": "code",
   "execution_count": null,
   "metadata": {
    "collapsed": true
   },
   "outputs": [],
   "source": []
  },
  {
   "cell_type": "markdown",
   "metadata": {},
   "source": [
    "Clean First time homebuyer flag"
   ]
  },
  {
   "cell_type": "code",
   "execution_count": 185,
   "metadata": {
    "scrolled": true
   },
   "outputs": [
    {
     "data": {
      "text/plain": [
       "count     361792\n",
       "unique         2\n",
       "top            N\n",
       "freq      324262\n",
       "Name: first_time_homebuyer_flag, dtype: object"
      ]
     },
     "execution_count": 185,
     "metadata": {},
     "output_type": "execute_result"
    }
   ],
   "source": [
    "orig_df['first_time_homebuyer_flag'].describe()"
   ]
  },
  {
   "cell_type": "code",
   "execution_count": 186,
   "metadata": {
    "collapsed": true
   },
   "outputs": [],
   "source": [
    "orig_df['first_time_homebuyer_flag'] = orig_df['first_time_homebuyer_flag'].fillna('N')"
   ]
  },
  {
   "cell_type": "code",
   "execution_count": null,
   "metadata": {
    "collapsed": true
   },
   "outputs": [],
   "source": []
  },
  {
   "cell_type": "markdown",
   "metadata": {},
   "source": [
    "Clean Metropolitan stat area"
   ]
  },
  {
   "cell_type": "code",
   "execution_count": 187,
   "metadata": {
    "collapsed": true
   },
   "outputs": [],
   "source": [
    "orig_df['metropolitan_stat_area'] = orig_df['metropolitan_stat_area'].fillna(0)"
   ]
  },
  {
   "cell_type": "code",
   "execution_count": null,
   "metadata": {
    "collapsed": true
   },
   "outputs": [],
   "source": []
  },
  {
   "cell_type": "markdown",
   "metadata": {},
   "source": [
    "Clean no_unit"
   ]
  },
  {
   "cell_type": "code",
   "execution_count": 105,
   "metadata": {},
   "outputs": [
    {
     "data": {
      "text/plain": [
       "<matplotlib.axes._subplots.AxesSubplot at 0x20d1744bcc0>"
      ]
     },
     "execution_count": 105,
     "metadata": {},
     "output_type": "execute_result"
    },
    {
     "data": {
      "image/png": "[encoded data removed]",
      "text/plain": [
       "<matplotlib.figure.Figure at 0x20d17377470>"
      ]
     },
     "metadata": {},
     "output_type": "display_data"
    }
   ],
   "source": [
    "col = 'no_unit'\n",
    "new_df = orig_df[orig_df[col] == orig_df[col]]\n",
    "sns.distplot(new_df[col].values, kde=False)"
   ]
  },
  {
   "cell_type": "code",
   "execution_count": 102,
   "metadata": {},
   "outputs": [
    {
     "data": {
      "text/plain": [
       "1    48980\n",
       "2      808\n",
       "3      122\n",
       "4       90\n",
       "Name: no_unit, dtype: int64"
      ]
     },
     "execution_count": 102,
     "metadata": {},
     "output_type": "execute_result"
    }
   ],
   "source": [
    "orig_df['no_unit'].value_counts()"
   ]
  },
  {
   "cell_type": "code",
   "execution_count": 189,
   "metadata": {
    "collapsed": true
   },
   "outputs": [],
   "source": [
    "orig_df['no_unit'] = orig_df['no_unit'].fillna(1)"
   ]
  },
  {
   "cell_type": "code",
   "execution_count": null,
   "metadata": {
    "collapsed": true
   },
   "outputs": [],
   "source": []
  },
  {
   "cell_type": "markdown",
   "metadata": {},
   "source": [
    "Clean orig_combined_loantovalue"
   ]
  },
  {
   "cell_type": "code",
   "execution_count": 120,
   "metadata": {},
   "outputs": [
    {
     "data": {
      "text/plain": [
       "<matplotlib.axes._subplots.AxesSubplot at 0x20d17fa0438>"
      ]
     },
     "execution_count": 120,
     "metadata": {},
     "output_type": "execute_result"
    },
    {
     "data": {
      "image/png": "[encoded data removed]",
      "text/plain": [
       "<matplotlib.figure.Figure at 0x20d17fa04a8>"
      ]
     },
     "metadata": {},
     "output_type": "display_data"
    }
   ],
   "source": [
    "col = 'orig_combined_loantovalue'\n",
    "new_df = orig_df[orig_df[col] == orig_df[col]]\n",
    "sns.distplot(new_df[col].values, kde=False)"
   ]
  },
  {
   "cell_type": "code",
   "execution_count": 114,
   "metadata": {},
   "outputs": [
    {
     "data": {
      "text/plain": [
       "80.0"
      ]
     },
     "execution_count": 114,
     "metadata": {},
     "output_type": "execute_result"
    }
   ],
   "source": [
    "mode = orig_df['orig_combined_loantovalue'].mode()[0]\n",
    "mode"
   ]
  },
  {
   "cell_type": "code",
   "execution_count": 124,
   "metadata": {},
   "outputs": [
    {
     "data": {
      "text/plain": [
       "71.6857819094331"
      ]
     },
     "execution_count": 124,
     "metadata": {},
     "output_type": "execute_result"
    }
   ],
   "source": [
    "new_df = orig_df[orig_df['orig_combined_loantovalue'] != 80]\n",
    "mean = calMean(new_df, 'orig_combined_loantovalue')\n",
    "mean"
   ]
  },
  {
   "cell_type": "code",
   "execution_count": 125,
   "metadata": {
    "collapsed": true
   },
   "outputs": [],
   "source": [
    "orig_df['orig_combined_loantovalue'] = orig_df['orig_combined_loantovalue'].fillna(mean)"
   ]
  },
  {
   "cell_type": "code",
   "execution_count": null,
   "metadata": {
    "collapsed": true
   },
   "outputs": [],
   "source": []
  },
  {
   "cell_type": "markdown",
   "metadata": {},
   "source": [
    "Clean orig_loantovalue"
   ]
  },
  {
   "cell_type": "code",
   "execution_count": 126,
   "metadata": {},
   "outputs": [
    {
     "data": {
      "text/plain": [
       "<matplotlib.axes._subplots.AxesSubplot at 0x20d17e4b400>"
      ]
     },
     "execution_count": 126,
     "metadata": {},
     "output_type": "execute_result"
    },
    {
     "data": {
      "image/png": "[encoded data removed]",
      "text/plain": [
       "<matplotlib.figure.Figure at 0x20d180044a8>"
      ]
     },
     "metadata": {},
     "output_type": "display_data"
    }
   ],
   "source": [
    "col = 'orig_loantovalue'\n",
    "new_df = orig_df[orig_df[col] == orig_df[col]]\n",
    "sns.distplot(new_df[col].values, kde=False)"
   ]
  },
  {
   "cell_type": "code",
   "execution_count": 127,
   "metadata": {},
   "outputs": [
    {
     "data": {
      "text/plain": [
       "80.0"
      ]
     },
     "execution_count": 127,
     "metadata": {},
     "output_type": "execute_result"
    }
   ],
   "source": [
    "mode = orig_df['orig_loantovalue'].mode()[0]\n",
    "mode"
   ]
  },
  {
   "cell_type": "code",
   "execution_count": 128,
   "metadata": {},
   "outputs": [
    {
     "data": {
      "text/plain": [
       "66.76448622621115"
      ]
     },
     "execution_count": 128,
     "metadata": {},
     "output_type": "execute_result"
    }
   ],
   "source": [
    "new_df = orig_df[orig_df['orig_loantovalue'] != 80]\n",
    "mean = calMean(new_df, 'orig_loantovalue')\n",
    "mean"
   ]
  },
  {
   "cell_type": "code",
   "execution_count": 129,
   "metadata": {
    "collapsed": true
   },
   "outputs": [],
   "source": [
    "orig_df['orig_loantovalue'] = orig_df['orig_loantovalue'].fillna(mode)"
   ]
  },
  {
   "cell_type": "code",
   "execution_count": null,
   "metadata": {
    "collapsed": true
   },
   "outputs": [],
   "source": []
  },
  {
   "cell_type": "markdown",
   "metadata": {},
   "source": [
    "Clean prepayment_penalty_mortgage_flag"
   ]
  },
  {
   "cell_type": "code",
   "execution_count": 194,
   "metadata": {},
   "outputs": [
    {
     "data": {
      "text/plain": [
       "count     405283\n",
       "unique         2\n",
       "top            N\n",
       "freq      404487\n",
       "Name: prepayment_penalty_mortgage_flag, dtype: object"
      ]
     },
     "execution_count": 194,
     "metadata": {},
     "output_type": "execute_result"
    }
   ],
   "source": [
    "orig_df['prepayment_penalty_mortgage_flag'].describe()"
   ]
  },
  {
   "cell_type": "code",
   "execution_count": 195,
   "metadata": {
    "collapsed": true
   },
   "outputs": [],
   "source": [
    "orig_df['prepayment_penalty_mortgage_flag'] = orig_df['prepayment_penalty_mortgage_flag'].fillna('N')"
   ]
  },
  {
   "cell_type": "code",
   "execution_count": null,
   "metadata": {
    "collapsed": true
   },
   "outputs": [],
   "source": []
  },
  {
   "cell_type": "markdown",
   "metadata": {},
   "source": [
    "Clean Postal Code"
   ]
  },
  {
   "cell_type": "code",
   "execution_count": 196,
   "metadata": {
    "collapsed": true
   },
   "outputs": [],
   "source": [
    "orig_df['postal_code'] = orig_df['postal_code'].fillna('00000')"
   ]
  },
  {
   "cell_type": "code",
   "execution_count": null,
   "metadata": {
    "collapsed": true
   },
   "outputs": [],
   "source": []
  },
  {
   "cell_type": "markdown",
   "metadata": {},
   "source": [
    "Clean no_borrower"
   ]
  },
  {
   "cell_type": "code",
   "execution_count": 130,
   "metadata": {},
   "outputs": [
    {
     "data": {
      "text/plain": [
       "<matplotlib.axes._subplots.AxesSubplot at 0x20d19bf6ef0>"
      ]
     },
     "execution_count": 130,
     "metadata": {},
     "output_type": "execute_result"
    },
    {
     "data": {
      "image/png": "[encoded data removed]",
      "text/plain": [
       "<matplotlib.figure.Figure at 0x20d1b2c1f60>"
      ]
     },
     "metadata": {},
     "output_type": "display_data"
    }
   ],
   "source": [
    "col = 'no_borrower'\n",
    "new_df = orig_df[orig_df[col] == orig_df[col]]\n",
    "sns.distplot(new_df[col].values, kde=False)"
   ]
  },
  {
   "cell_type": "code",
   "execution_count": 29,
   "metadata": {
    "collapsed": true
   },
   "outputs": [],
   "source": [
    "from random import random"
   ]
  },
  {
   "cell_type": "code",
   "execution_count": 24,
   "metadata": {},
   "outputs": [
    {
     "data": {
      "text/html": [
       "<div>\n",
       "<style>\n",
       "    .dataframe thead tr:only-child th {\n",
       "        text-align: right;\n",
       "    }\n",
       "\n",
       "    .dataframe thead th {\n",
       "        text-align: left;\n",
       "    }\n",
       "\n",
       "    .dataframe tbody tr th {\n",
       "        vertical-align: top;\n",
       "    }\n",
       "</style>\n",
       "<table border=\"1\" class=\"dataframe\">\n",
       "  <thead>\n",
       "    <tr style=\"text-align: right;\">\n",
       "      <th></th>\n",
       "      <th>index</th>\n",
       "      <th>no_borrower</th>\n",
       "    </tr>\n",
       "  </thead>\n",
       "  <tbody>\n",
       "    <tr>\n",
       "      <th>0</th>\n",
       "      <td>2.0</td>\n",
       "      <td>29033</td>\n",
       "    </tr>\n",
       "    <tr>\n",
       "      <th>1</th>\n",
       "      <td>1.0</td>\n",
       "      <td>20950</td>\n",
       "    </tr>\n",
       "  </tbody>\n",
       "</table>\n",
       "</div>"
      ],
      "text/plain": [
       "   index  no_borrower\n",
       "0    2.0        29033\n",
       "1    1.0        20950"
      ]
     },
     "execution_count": 24,
     "metadata": {},
     "output_type": "execute_result"
    }
   ],
   "source": [
    "orig_df['no_borrower'].value_counts().reset_index()"
   ]
  },
  {
   "cell_type": "code",
   "execution_count": 30,
   "metadata": {
    "collapsed": true
   },
   "outputs": [],
   "source": [
    "one_borrower_perc = orig_df['no_borrower'].value_counts()[1.0] / orig_df.shape[0]\n",
    "temp_df = orig_df[orig_df['no_borrower'] != orig_df['no_borrower']]\n",
    "for ind, row in temp_df.iterrows():\n",
    "    orig_df.iloc[ind, orig_df.columns.get_loc('no_borrower')] = 1 if random() < one_borrower_perc else 2"
   ]
  },
  {
   "cell_type": "code",
   "execution_count": null,
   "metadata": {
    "collapsed": true
   },
   "outputs": [],
   "source": []
  },
  {
   "cell_type": "markdown",
   "metadata": {},
   "source": [
    "Clean mortgage_insurance_perc"
   ]
  },
  {
   "cell_type": "code",
   "execution_count": 163,
   "metadata": {},
   "outputs": [
    {
     "name": "stderr",
     "output_type": "stream",
     "text": [
      "C:\\Users\\liuji\\Anaconda3\\lib\\site-packages\\ipykernel_launcher.py:3: SettingWithCopyWarning: \n",
      "A value is trying to be set on a copy of a slice from a DataFrame.\n",
      "Try using .loc[row_indexer,col_indexer] = value instead\n",
      "\n",
      "See the caveats in the documentation: http://pandas.pydata.org/pandas-docs/stable/indexing.html#indexing-view-versus-copy\n",
      "  This is separate from the ipykernel package so we can avoid doing imports until\n"
     ]
    },
    {
     "data": {
      "text/plain": [
       "<matplotlib.axes._subplots.AxesSubplot at 0x20d1bd41940>"
      ]
     },
     "execution_count": 163,
     "metadata": {},
     "output_type": "execute_result"
    },
    {
     "data": {
      "image/png": "[encoded data removed]",
      "text/plain": [
       "<matplotlib.figure.Figure at 0x20d1a364f98>"
      ]
     },
     "metadata": {},
     "output_type": "display_data"
    }
   ],
   "source": [
    "col = 'mortgage_insurance_perc'\n",
    "new_df = orig_df[orig_df[col].apply(lambda x: x.isnumeric())]\n",
    "new_df[col] = new_df[col].astype(int)\n",
    "sns.distplot(new_df[col].values, bins=200, kde=False)"
   ]
  },
  {
   "cell_type": "code",
   "execution_count": 137,
   "metadata": {},
   "outputs": [],
   "source": [
    "orig_df.loc[orig_df['mortgage_insurance_perc'] == \"   \", 'mortgage_insurance_perc'] = 0\n",
    "orig_df.loc[orig_df['mortgage_insurance_perc'] == \"000\", 'mortgage_insurance_perc'] = 0"
   ]
  },
  {
   "cell_type": "code",
   "execution_count": 139,
   "metadata": {},
   "outputs": [],
   "source": [
    "orig_df['mortgage_insurance_perc'] = orig_df['mortgage_insurance_perc'].astype(int)"
   ]
  },
  {
   "cell_type": "code",
   "execution_count": null,
   "metadata": {
    "collapsed": true
   },
   "outputs": [],
   "source": []
  },
  {
   "cell_type": "markdown",
   "metadata": {},
   "source": [
    "Drop super_confirming_flag"
   ]
  },
  {
   "cell_type": "code",
   "execution_count": 201,
   "metadata": {
    "collapsed": true
   },
   "outputs": [],
   "source": [
    "orig_df = orig_df.drop('super_conforming_flag', 1)"
   ]
  },
  {
   "cell_type": "code",
   "execution_count": null,
   "metadata": {
    "collapsed": true
   },
   "outputs": [],
   "source": []
  },
  {
   "cell_type": "code",
   "execution_count": 202,
   "metadata": {
    "collapsed": true
   },
   "outputs": [],
   "source": [
    "orig_df.to_csv('historical_data1_Q22005/historical_data1_Q22005_clean.csv', index=False)"
   ]
  }
 ],
 "metadata": {
  "kernelspec": {
   "display_name": "Python 3",
   "language": "python",
   "name": "python3"
  },
  "language_info": {
   "codemirror_mode": {
    "name": "ipython",
    "version": 3
   },
   "file_extension": ".py",
   "mimetype": "text/x-python",
   "name": "python",
   "nbconvert_exporter": "python",
   "pygments_lexer": "ipython3",
   "version": "3.6.1"
  }
 },
 "nbformat": 4,
 "nbformat_minor": 2
}
