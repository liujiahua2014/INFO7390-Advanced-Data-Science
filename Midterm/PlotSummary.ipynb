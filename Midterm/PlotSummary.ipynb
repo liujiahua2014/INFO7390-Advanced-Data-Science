{
 "cells": [
  {
   "cell_type": "code",
   "execution_count": 2,
   "metadata": {
    "collapsed": true
   },
   "outputs": [],
   "source": [
    "import pandas as pd\n",
    "import matplotlib.pyplot as plt\n",
    "import numpy as np\n",
    "from datetime import datetime, date\n",
    "\n",
    "%matplotlib inline\n",
    "plt.rcParams['figure.figsize'] = (12,8)"
   ]
  },
  {
   "cell_type": "code",
   "execution_count": 17,
   "metadata": {
    "collapsed": true
   },
   "outputs": [],
   "source": [
    "df = pd.read_csv('orig_summary.csv', parse_dates=[\"year\"])"
   ]
  },
  {
   "cell_type": "code",
   "execution_count": 18,
   "metadata": {},
   "outputs": [
    {
     "data": {
      "text/html": [
       "<div>\n",
       "<style>\n",
       "    .dataframe thead tr:only-child th {\n",
       "        text-align: right;\n",
       "    }\n",
       "\n",
       "    .dataframe thead th {\n",
       "        text-align: left;\n",
       "    }\n",
       "\n",
       "    .dataframe tbody tr th {\n",
       "        vertical-align: top;\n",
       "    }\n",
       "</style>\n",
       "<table border=\"1\" class=\"dataframe\">\n",
       "  <thead>\n",
       "    <tr style=\"text-align: right;\">\n",
       "      <th></th>\n",
       "      <th>year</th>\n",
       "      <th>loanCount</th>\n",
       "      <th>totalOrigUPB</th>\n",
       "      <th>avgOrigUPB</th>\n",
       "      <th>avgCreditScore</th>\n",
       "      <th>avgOrigInterestRate</th>\n",
       "      <th>avgOrigCombinedLoantovalue</th>\n",
       "      <th>avgOrigLoantovalue</th>\n",
       "      <th>avgOrigDebttoincome</th>\n",
       "    </tr>\n",
       "  </thead>\n",
       "  <tbody>\n",
       "    <tr>\n",
       "      <th>0</th>\n",
       "      <td>2005-01-01</td>\n",
       "      <td>50000</td>\n",
       "      <td>8532579000</td>\n",
       "      <td>170651.58</td>\n",
       "      <td>723.81614</td>\n",
       "      <td>5.806122</td>\n",
       "      <td>71.10286</td>\n",
       "      <td>69.45478</td>\n",
       "      <td>36.31602</td>\n",
       "    </tr>\n",
       "    <tr>\n",
       "      <th>1</th>\n",
       "      <td>2006-01-01</td>\n",
       "      <td>50000</td>\n",
       "      <td>8979629000</td>\n",
       "      <td>179592.58</td>\n",
       "      <td>722.38978</td>\n",
       "      <td>6.406876</td>\n",
       "      <td>73.11254</td>\n",
       "      <td>70.69534</td>\n",
       "      <td>37.27748</td>\n",
       "    </tr>\n",
       "    <tr>\n",
       "      <th>2</th>\n",
       "      <td>2007-01-01</td>\n",
       "      <td>50000</td>\n",
       "      <td>9188208000</td>\n",
       "      <td>183764.16</td>\n",
       "      <td>722.83612</td>\n",
       "      <td>6.376952</td>\n",
       "      <td>74.50202</td>\n",
       "      <td>72.06652</td>\n",
       "      <td>37.62848</td>\n",
       "    </tr>\n",
       "    <tr>\n",
       "      <th>3</th>\n",
       "      <td>2008-01-01</td>\n",
       "      <td>50000</td>\n",
       "      <td>10199093000</td>\n",
       "      <td>203981.86</td>\n",
       "      <td>740.74412</td>\n",
       "      <td>6.057020</td>\n",
       "      <td>71.50462</td>\n",
       "      <td>70.28216</td>\n",
       "      <td>36.93400</td>\n",
       "    </tr>\n",
       "    <tr>\n",
       "      <th>4</th>\n",
       "      <td>2009-01-01</td>\n",
       "      <td>50000</td>\n",
       "      <td>10685987000</td>\n",
       "      <td>213719.74</td>\n",
       "      <td>762.14216</td>\n",
       "      <td>4.958583</td>\n",
       "      <td>66.85308</td>\n",
       "      <td>65.44966</td>\n",
       "      <td>31.92590</td>\n",
       "    </tr>\n",
       "  </tbody>\n",
       "</table>\n",
       "</div>"
      ],
      "text/plain": [
       "        year  loanCount  totalOrigUPB  avgOrigUPB  avgCreditScore  \\\n",
       "0 2005-01-01      50000    8532579000   170651.58       723.81614   \n",
       "1 2006-01-01      50000    8979629000   179592.58       722.38978   \n",
       "2 2007-01-01      50000    9188208000   183764.16       722.83612   \n",
       "3 2008-01-01      50000   10199093000   203981.86       740.74412   \n",
       "4 2009-01-01      50000   10685987000   213719.74       762.14216   \n",
       "\n",
       "   avgOrigInterestRate  avgOrigCombinedLoantovalue  avgOrigLoantovalue  \\\n",
       "0             5.806122                    71.10286            69.45478   \n",
       "1             6.406876                    73.11254            70.69534   \n",
       "2             6.376952                    74.50202            72.06652   \n",
       "3             6.057020                    71.50462            70.28216   \n",
       "4             4.958583                    66.85308            65.44966   \n",
       "\n",
       "   avgOrigDebttoincome  \n",
       "0             36.31602  \n",
       "1             37.27748  \n",
       "2             37.62848  \n",
       "3             36.93400  \n",
       "4             31.92590  "
      ]
     },
     "execution_count": 18,
     "metadata": {},
     "output_type": "execute_result"
    }
   ],
   "source": [
    "df.head()"
   ]
  },
  {
   "cell_type": "code",
   "execution_count": null,
   "metadata": {
    "collapsed": true
   },
   "outputs": [],
   "source": []
  },
  {
   "cell_type": "markdown",
   "metadata": {},
   "source": [
    "### Origination Summary Plots"
   ]
  },
  {
   "cell_type": "code",
   "execution_count": 19,
   "metadata": {},
   "outputs": [
    {
     "data": {
      "text/plain": [
       "<matplotlib.text.Text at 0x293159992e8>"
      ]
     },
     "execution_count": 19,
     "metadata": {},
     "output_type": "execute_result"
    },
    {
     "data": {
      "image/png": "[encoded data removed]",
      "text/plain": [
       "<matplotlib.figure.Figure at 0x293146f7278>"
      ]
     },
     "metadata": {},
     "output_type": "display_data"
    }
   ],
   "source": [
    "fig = plt.figure()\n",
    "\n",
    "ax1 = fig.add_subplot(221)\n",
    "ax1.plot(df['year'], df['avgOrigUPB'], marker='o', linestyle='-')\n",
    "ax1.set_xlabel('Year')\n",
    "ax1.set_ylabel('Average Original UPB')\n",
    "\n",
    "ax2 = fig.add_subplot(222)\n",
    "ax2.plot(df['year'], df['avgOrigInterestRate'], marker='o', linestyle='-')\n",
    "ax2.set_xlabel('Year')\n",
    "ax2.set_ylabel('Average Original Interest Rate')\n",
    "\n",
    "ax3 = fig.add_subplot(223)\n",
    "ax3.plot(df['year'], df['avgOrigCombinedLoantovalue'], marker='o', linestyle='-')\n",
    "ax3.set_xlabel('Year')\n",
    "ax3.set_ylabel('Average Original Combined Loantovalue')\n",
    "\n",
    "ax4 = fig.add_subplot(224)\n",
    "ax4.plot(df['year'], df['avgOrigDebttoincome'], marker='o', linestyle='-')\n",
    "ax4.set_xlabel('Year')\n",
    "ax4.set_ylabel('Average Original Debttoincome')"
   ]
  },
  {
   "cell_type": "markdown",
   "metadata": {},
   "source": [
    "Original UPB increases by the year. Original interest rate basically decreases by the year. Original combined loan to value and debt to income both descended around the economy recession at 2007, 2008, and both ascended around the economic boom in 2013."
   ]
  },
  {
   "cell_type": "code",
   "execution_count": null,
   "metadata": {
    "collapsed": true
   },
   "outputs": [],
   "source": []
  },
  {
   "cell_type": "code",
   "execution_count": 20,
   "metadata": {
    "collapsed": true
   },
   "outputs": [],
   "source": [
    "import seaborn as sns"
   ]
  },
  {
   "cell_type": "code",
   "execution_count": 21,
   "metadata": {},
   "outputs": [
    {
     "data": {
      "text/plain": [
       "<seaborn.axisgrid.JointGrid at 0x293166aeef0>"
      ]
     },
     "execution_count": 21,
     "metadata": {},
     "output_type": "execute_result"
    },
    {
     "data": {
      "image/png": "[encoded data removed]",
      "text/plain": [
       "<matplotlib.figure.Figure at 0x293166aee80>"
      ]
     },
     "metadata": {},
     "output_type": "display_data"
    }
   ],
   "source": [
    "sns.jointplot(x='avgOrigUPB', y='avgOrigInterestRate', data=df)"
   ]
  },
  {
   "cell_type": "markdown",
   "metadata": {},
   "source": [
    "Basically UPB is negatively related to interest rate."
   ]
  },
  {
   "cell_type": "code",
   "execution_count": null,
   "metadata": {
    "collapsed": true
   },
   "outputs": [],
   "source": []
  },
  {
   "cell_type": "code",
   "execution_count": 23,
   "metadata": {},
   "outputs": [
    {
     "data": {
      "text/plain": [
       "<seaborn.axisgrid.JointGrid at 0x29316a42940>"
      ]
     },
     "execution_count": 23,
     "metadata": {},
     "output_type": "execute_result"
    },
    {
     "data": {
      "image/png": "[encoded data removed]",
      "text/plain": [
       "<matplotlib.figure.Figure at 0x29316a42390>"
      ]
     },
     "metadata": {},
     "output_type": "display_data"
    }
   ],
   "source": [
    "sns.jointplot(x='avgOrigDebttoincome', y='avgOrigInterestRate', data=df)"
   ]
  },
  {
   "cell_type": "markdown",
   "metadata": {},
   "source": [
    "Basically there is a positive correlation between debt to income and interest rate."
   ]
  },
  {
   "cell_type": "code",
   "execution_count": null,
   "metadata": {
    "collapsed": true
   },
   "outputs": [],
   "source": []
  },
  {
   "cell_type": "markdown",
   "metadata": {},
   "source": [
    "### Origination State Summary Plots"
   ]
  },
  {
   "cell_type": "code",
   "execution_count": 3,
   "metadata": {
    "collapsed": true
   },
   "outputs": [],
   "source": [
    "state_df = pd.read_csv('orig_summary_state.csv')\n",
    "# state_df = pd.read_csv('orig_summary_state.csv', parse_dates=[\"year\"])"
   ]
  },
  {
   "cell_type": "code",
   "execution_count": 4,
   "metadata": {},
   "outputs": [
    {
     "data": {
      "text/html": [
       "<div>\n",
       "<style>\n",
       "    .dataframe thead tr:only-child th {\n",
       "        text-align: right;\n",
       "    }\n",
       "\n",
       "    .dataframe thead th {\n",
       "        text-align: left;\n",
       "    }\n",
       "\n",
       "    .dataframe tbody tr th {\n",
       "        vertical-align: top;\n",
       "    }\n",
       "</style>\n",
       "<table border=\"1\" class=\"dataframe\">\n",
       "  <thead>\n",
       "    <tr style=\"text-align: right;\">\n",
       "      <th></th>\n",
       "      <th>year</th>\n",
       "      <th>state</th>\n",
       "      <th>loanCount</th>\n",
       "      <th>totalOrigUPB</th>\n",
       "      <th>avgOrigUPB</th>\n",
       "      <th>avgCreditScore</th>\n",
       "      <th>avgOrigInterestRate</th>\n",
       "      <th>avgOrigCombinedLoantovalue</th>\n",
       "      <th>avgOrigLoantovalue</th>\n",
       "      <th>avgOrigDebttoincome</th>\n",
       "    </tr>\n",
       "  </thead>\n",
       "  <tbody>\n",
       "    <tr>\n",
       "      <th>0</th>\n",
       "      <td>2005</td>\n",
       "      <td>WA</td>\n",
       "      <td>1521</td>\n",
       "      <td>284368000</td>\n",
       "      <td>186961.209730</td>\n",
       "      <td>728.862590</td>\n",
       "      <td>5.776599</td>\n",
       "      <td>71.314924</td>\n",
       "      <td>69.747535</td>\n",
       "      <td>36.343853</td>\n",
       "    </tr>\n",
       "    <tr>\n",
       "      <th>1</th>\n",
       "      <td>2005</td>\n",
       "      <td>MD</td>\n",
       "      <td>1431</td>\n",
       "      <td>296410000</td>\n",
       "      <td>207134.870720</td>\n",
       "      <td>716.980433</td>\n",
       "      <td>5.814560</td>\n",
       "      <td>67.722572</td>\n",
       "      <td>66.244584</td>\n",
       "      <td>36.301188</td>\n",
       "    </tr>\n",
       "    <tr>\n",
       "      <th>2</th>\n",
       "      <td>2005</td>\n",
       "      <td>NY</td>\n",
       "      <td>1887</td>\n",
       "      <td>377210000</td>\n",
       "      <td>199899.311076</td>\n",
       "      <td>723.402226</td>\n",
       "      <td>5.782834</td>\n",
       "      <td>68.074192</td>\n",
       "      <td>66.645999</td>\n",
       "      <td>36.101219</td>\n",
       "    </tr>\n",
       "    <tr>\n",
       "      <th>3</th>\n",
       "      <td>2005</td>\n",
       "      <td>DE</td>\n",
       "      <td>218</td>\n",
       "      <td>41322000</td>\n",
       "      <td>189550.458716</td>\n",
       "      <td>717.747706</td>\n",
       "      <td>5.821193</td>\n",
       "      <td>71.958716</td>\n",
       "      <td>70.082569</td>\n",
       "      <td>36.018349</td>\n",
       "    </tr>\n",
       "    <tr>\n",
       "      <th>4</th>\n",
       "      <td>2005</td>\n",
       "      <td>TX</td>\n",
       "      <td>2243</td>\n",
       "      <td>329315000</td>\n",
       "      <td>146818.992421</td>\n",
       "      <td>719.980829</td>\n",
       "      <td>5.781152</td>\n",
       "      <td>79.363798</td>\n",
       "      <td>76.515827</td>\n",
       "      <td>35.519394</td>\n",
       "    </tr>\n",
       "  </tbody>\n",
       "</table>\n",
       "</div>"
      ],
      "text/plain": [
       "   year state  loanCount  totalOrigUPB     avgOrigUPB  avgCreditScore  \\\n",
       "0  2005    WA       1521     284368000  186961.209730      728.862590   \n",
       "1  2005    MD       1431     296410000  207134.870720      716.980433   \n",
       "2  2005    NY       1887     377210000  199899.311076      723.402226   \n",
       "3  2005    DE        218      41322000  189550.458716      717.747706   \n",
       "4  2005    TX       2243     329315000  146818.992421      719.980829   \n",
       "\n",
       "   avgOrigInterestRate  avgOrigCombinedLoantovalue  avgOrigLoantovalue  \\\n",
       "0             5.776599                   71.314924           69.747535   \n",
       "1             5.814560                   67.722572           66.244584   \n",
       "2             5.782834                   68.074192           66.645999   \n",
       "3             5.821193                   71.958716           70.082569   \n",
       "4             5.781152                   79.363798           76.515827   \n",
       "\n",
       "   avgOrigDebttoincome  \n",
       "0            36.343853  \n",
       "1            36.301188  \n",
       "2            36.101219  \n",
       "3            36.018349  \n",
       "4            35.519394  "
      ]
     },
     "execution_count": 4,
     "metadata": {},
     "output_type": "execute_result"
    }
   ],
   "source": [
    "state_df.head()"
   ]
  },
  {
   "cell_type": "code",
   "execution_count": null,
   "metadata": {
    "collapsed": true
   },
   "outputs": [],
   "source": []
  },
  {
   "cell_type": "code",
   "execution_count": 1,
   "metadata": {
    "collapsed": true
   },
   "outputs": [],
   "source": [
    "import plotly\n",
    "plotly.tools.set_credentials_file(username = 'liujiahua2014', api_key = 'c5QSIWnrF9HmSEoPnwMY')"
   ]
  },
  {
   "cell_type": "code",
   "execution_count": 22,
   "metadata": {
    "collapsed": true
   },
   "outputs": [],
   "source": [
    "def plotStateMap(df, col):\n",
    "\n",
    "    data = [dict(type='choropleth',\n",
    "                 locations = df['state'],\n",
    "                 locationmode = 'USA-states',\n",
    "                 z = df[col],\n",
    "                 text = df['state'],\n",
    "                 colorbar = {'title': 'avgOrigUPB'},\n",
    "                 colorscale = 'Viridis',\n",
    "                 reversescale = True)]\n",
    "\n",
    "    layout = dict(title = col,\n",
    "                  geo = dict(showframe=False, scope='usa',\n",
    "                             projection=dict(type = 'albers usa')))\n",
    "\n",
    "    figure = dict(data = data, layout = layout)\n",
    "    return figure"
   ]
  },
  {
   "cell_type": "code",
   "execution_count": null,
   "metadata": {
    "collapsed": true
   },
   "outputs": [],
   "source": []
  },
  {
   "cell_type": "code",
   "execution_count": 7,
   "metadata": {},
   "outputs": [],
   "source": [
    "state_year_df = state_df[state_df['year'] == 2015]"
   ]
  },
  {
   "cell_type": "code",
   "execution_count": 18,
   "metadata": {},
   "outputs": [],
   "source": [
    "state_full_df = state_df.groupby('state').mean().reset_index()"
   ]
  },
  {
   "cell_type": "code",
   "execution_count": null,
   "metadata": {
    "collapsed": true
   },
   "outputs": [],
   "source": []
  },
  {
   "cell_type": "markdown",
   "metadata": {},
   "source": [
    "##### 2015 Average Original UPB Map"
   ]
  },
  {
   "cell_type": "code",
   "execution_count": 23,
   "metadata": {},
   "outputs": [
    {
     "data": {
      "text/html": [
       "<iframe id=\"igraph\" scrolling=\"no\" style=\"border:none;\" seamless=\"seamless\" src=\"https://plot.ly/~liujiahua2014/30.embed\" height=\"525px\" width=\"100%\"></iframe>"
      ],
      "text/plain": [
       "<plotly.tools.PlotlyDisplay object>"
      ]
     },
     "execution_count": 23,
     "metadata": {},
     "output_type": "execute_result"
    }
   ],
   "source": [
    "fig = plotStateMap(state_year_df, 'avgOrigUPB')\n",
    "plotly.plotly.iplot(fig)"
   ]
  },
  {
   "cell_type": "markdown",
   "metadata": {},
   "source": [
    "#### Average Original UPB for all years"
   ]
  },
  {
   "cell_type": "code",
   "execution_count": 24,
   "metadata": {},
   "outputs": [
    {
     "data": {
      "text/html": [
       "<iframe id=\"igraph\" scrolling=\"no\" style=\"border:none;\" seamless=\"seamless\" src=\"https://plot.ly/~liujiahua2014/32.embed\" height=\"525px\" width=\"100%\"></iframe>"
      ],
      "text/plain": [
       "<plotly.tools.PlotlyDisplay object>"
      ]
     },
     "execution_count": 24,
     "metadata": {},
     "output_type": "execute_result"
    }
   ],
   "source": [
    "fig = plotStateMap(state_full_df, 'avgOrigUPB')\n",
    "plotly.plotly.iplot(fig)"
   ]
  },
  {
   "cell_type": "markdown",
   "metadata": {},
   "source": [
    "East and west coast has higher UPB values than the rest, implying abundant capital"
   ]
  },
  {
   "cell_type": "code",
   "execution_count": null,
   "metadata": {
    "collapsed": true
   },
   "outputs": [],
   "source": []
  },
  {
   "cell_type": "markdown",
   "metadata": {},
   "source": [
    "#### 2015 Loan Count Map"
   ]
  },
  {
   "cell_type": "code",
   "execution_count": 25,
   "metadata": {},
   "outputs": [
    {
     "data": {
      "text/html": [
       "<iframe id=\"igraph\" scrolling=\"no\" style=\"border:none;\" seamless=\"seamless\" src=\"https://plot.ly/~liujiahua2014/34.embed\" height=\"525px\" width=\"100%\"></iframe>"
      ],
      "text/plain": [
       "<plotly.tools.PlotlyDisplay object>"
      ]
     },
     "execution_count": 25,
     "metadata": {},
     "output_type": "execute_result"
    }
   ],
   "source": [
    "fig = plotStateMap(state_year_df, 'loanCount')\n",
    "plotly.plotly.iplot(fig)"
   ]
  },
  {
   "cell_type": "markdown",
   "metadata": {},
   "source": [
    "#### Loan Count for all years"
   ]
  },
  {
   "cell_type": "code",
   "execution_count": 26,
   "metadata": {},
   "outputs": [
    {
     "data": {
      "text/html": [
       "<iframe id=\"igraph\" scrolling=\"no\" style=\"border:none;\" seamless=\"seamless\" src=\"https://plot.ly/~liujiahua2014/36.embed\" height=\"525px\" width=\"100%\"></iframe>"
      ],
      "text/plain": [
       "<plotly.tools.PlotlyDisplay object>"
      ]
     },
     "execution_count": 26,
     "metadata": {},
     "output_type": "execute_result"
    }
   ],
   "source": [
    "fig = plotStateMap(state_full_df, 'loanCount')\n",
    "plotly.plotly.iplot(fig)"
   ]
  },
  {
   "cell_type": "markdown",
   "metadata": {},
   "source": [
    "CA, TX and FL have higher loan counts, probably indicating good financial status and people's progressive minds."
   ]
  },
  {
   "cell_type": "code",
   "execution_count": null,
   "metadata": {
    "collapsed": true
   },
   "outputs": [],
   "source": []
  },
  {
   "cell_type": "markdown",
   "metadata": {},
   "source": [
    "#### 2015 Interest Rate"
   ]
  },
  {
   "cell_type": "code",
   "execution_count": 27,
   "metadata": {},
   "outputs": [
    {
     "data": {
      "text/html": [
       "<iframe id=\"igraph\" scrolling=\"no\" style=\"border:none;\" seamless=\"seamless\" src=\"https://plot.ly/~liujiahua2014/38.embed\" height=\"525px\" width=\"100%\"></iframe>"
      ],
      "text/plain": [
       "<plotly.tools.PlotlyDisplay object>"
      ]
     },
     "execution_count": 27,
     "metadata": {},
     "output_type": "execute_result"
    }
   ],
   "source": [
    "fig = plotStateMap(state_year_df, 'avgOrigInterestRate')\n",
    "plotly.plotly.iplot(fig)"
   ]
  },
  {
   "cell_type": "markdown",
   "metadata": {},
   "source": [
    "#### Interest Rate for all years"
   ]
  },
  {
   "cell_type": "code",
   "execution_count": 28,
   "metadata": {},
   "outputs": [
    {
     "data": {
      "text/html": [
       "<iframe id=\"igraph\" scrolling=\"no\" style=\"border:none;\" seamless=\"seamless\" src=\"https://plot.ly/~liujiahua2014/40.embed\" height=\"525px\" width=\"100%\"></iframe>"
      ],
      "text/plain": [
       "<plotly.tools.PlotlyDisplay object>"
      ]
     },
     "execution_count": 28,
     "metadata": {},
     "output_type": "execute_result"
    }
   ],
   "source": [
    "fig = plotStateMap(state_full_df, 'avgOrigInterestRate')\n",
    "plotly.plotly.iplot(fig)"
   ]
  },
  {
   "cell_type": "markdown",
   "metadata": {},
   "source": [
    "NV, FL shows high UPB values."
   ]
  },
  {
   "cell_type": "code",
   "execution_count": null,
   "metadata": {
    "collapsed": true
   },
   "outputs": [],
   "source": []
  },
  {
   "cell_type": "markdown",
   "metadata": {},
   "source": [
    "### Performance Summary Plots"
   ]
  },
  {
   "cell_type": "code",
   "execution_count": 27,
   "metadata": {
    "collapsed": true
   },
   "outputs": [],
   "source": [
    "perf_df = pd.read_csv('perf_summary.csv', parse_dates=[\"year\"])"
   ]
  },
  {
   "cell_type": "code",
   "execution_count": 28,
   "metadata": {},
   "outputs": [
    {
     "data": {
      "text/html": [
       "<div>\n",
       "<style>\n",
       "    .dataframe thead tr:only-child th {\n",
       "        text-align: right;\n",
       "    }\n",
       "\n",
       "    .dataframe thead th {\n",
       "        text-align: left;\n",
       "    }\n",
       "\n",
       "    .dataframe tbody tr th {\n",
       "        vertical-align: top;\n",
       "    }\n",
       "</style>\n",
       "<table border=\"1\" class=\"dataframe\">\n",
       "  <thead>\n",
       "    <tr style=\"text-align: right;\">\n",
       "      <th></th>\n",
       "      <th>year</th>\n",
       "      <th>nonDelinquencyRatio</th>\n",
       "      <th>avgCurrInterestRate</th>\n",
       "    </tr>\n",
       "  </thead>\n",
       "  <tbody>\n",
       "    <tr>\n",
       "      <th>0</th>\n",
       "      <td>2005-01-01</td>\n",
       "      <td>0.950899</td>\n",
       "      <td>5.775855</td>\n",
       "    </tr>\n",
       "    <tr>\n",
       "      <th>1</th>\n",
       "      <td>2006-01-01</td>\n",
       "      <td>0.923818</td>\n",
       "      <td>6.345243</td>\n",
       "    </tr>\n",
       "    <tr>\n",
       "      <th>2</th>\n",
       "      <td>2007-01-01</td>\n",
       "      <td>0.909595</td>\n",
       "      <td>6.292827</td>\n",
       "    </tr>\n",
       "    <tr>\n",
       "      <th>3</th>\n",
       "      <td>2008-01-01</td>\n",
       "      <td>0.938412</td>\n",
       "      <td>6.008554</td>\n",
       "    </tr>\n",
       "    <tr>\n",
       "      <th>4</th>\n",
       "      <td>2009-01-01</td>\n",
       "      <td>0.989150</td>\n",
       "      <td>4.957200</td>\n",
       "    </tr>\n",
       "    <tr>\n",
       "      <th>5</th>\n",
       "      <td>2010-01-01</td>\n",
       "      <td>0.992513</td>\n",
       "      <td>4.636704</td>\n",
       "    </tr>\n",
       "    <tr>\n",
       "      <th>6</th>\n",
       "      <td>2011-01-01</td>\n",
       "      <td>0.994054</td>\n",
       "      <td>4.347383</td>\n",
       "    </tr>\n",
       "    <tr>\n",
       "      <th>7</th>\n",
       "      <td>2012-01-01</td>\n",
       "      <td>0.996997</td>\n",
       "      <td>3.609068</td>\n",
       "    </tr>\n",
       "    <tr>\n",
       "      <th>8</th>\n",
       "      <td>2013-01-01</td>\n",
       "      <td>0.996157</td>\n",
       "      <td>3.848011</td>\n",
       "    </tr>\n",
       "    <tr>\n",
       "      <th>9</th>\n",
       "      <td>2014-01-01</td>\n",
       "      <td>0.994743</td>\n",
       "      <td>4.287854</td>\n",
       "    </tr>\n",
       "    <tr>\n",
       "      <th>10</th>\n",
       "      <td>2015-01-01</td>\n",
       "      <td>0.996831</td>\n",
       "      <td>3.956772</td>\n",
       "    </tr>\n",
       "    <tr>\n",
       "      <th>11</th>\n",
       "      <td>2016-01-01</td>\n",
       "      <td>0.997721</td>\n",
       "      <td>3.889358</td>\n",
       "    </tr>\n",
       "  </tbody>\n",
       "</table>\n",
       "</div>"
      ],
      "text/plain": [
       "         year  nonDelinquencyRatio  avgCurrInterestRate\n",
       "0  2005-01-01             0.950899             5.775855\n",
       "1  2006-01-01             0.923818             6.345243\n",
       "2  2007-01-01             0.909595             6.292827\n",
       "3  2008-01-01             0.938412             6.008554\n",
       "4  2009-01-01             0.989150             4.957200\n",
       "5  2010-01-01             0.992513             4.636704\n",
       "6  2011-01-01             0.994054             4.347383\n",
       "7  2012-01-01             0.996997             3.609068\n",
       "8  2013-01-01             0.996157             3.848011\n",
       "9  2014-01-01             0.994743             4.287854\n",
       "10 2015-01-01             0.996831             3.956772\n",
       "11 2016-01-01             0.997721             3.889358"
      ]
     },
     "execution_count": 28,
     "metadata": {},
     "output_type": "execute_result"
    }
   ],
   "source": [
    "perf_df.head(20)"
   ]
  },
  {
   "cell_type": "code",
   "execution_count": null,
   "metadata": {
    "collapsed": true
   },
   "outputs": [],
   "source": []
  },
  {
   "cell_type": "code",
   "execution_count": 29,
   "metadata": {},
   "outputs": [
    {
     "data": {
      "text/plain": [
       "<matplotlib.text.Text at 0x29316cc09e8>"
      ]
     },
     "execution_count": 29,
     "metadata": {},
     "output_type": "execute_result"
    },
    {
     "data": {
      "image/png": "[encoded data removed]",
      "text/plain": [
       "<matplotlib.figure.Figure at 0x29316c2be10>"
      ]
     },
     "metadata": {},
     "output_type": "display_data"
    }
   ],
   "source": [
    "fig = plt.figure()\n",
    "\n",
    "ax2 = fig.add_subplot(221)\n",
    "ax2.plot(perf_df['year'], perf_df['nonDelinquencyRatio'], marker='o', linestyle='-')\n",
    "ax2.set_xlabel('Year')\n",
    "ax2.set_ylabel('Non Delinquency Ratio')\n",
    "\n",
    "ax3 = fig.add_subplot(222)\n",
    "ax3.plot(perf_df['year'], perf_df['avgCurrInterestRate'], marker='o', linestyle='-')\n",
    "ax3.set_xlabel('Year')\n",
    "ax3.set_ylabel('Average Current Interest Rate')"
   ]
  },
  {
   "cell_type": "markdown",
   "metadata": {},
   "source": [
    "Non delinquency ratio dropped sharply in 2007 during the financial crisis, and rose quickly after the crisis, approaching 100% after 2010. Interest rate decreased basically."
   ]
  }
 ],
 "metadata": {
  "kernelspec": {
   "display_name": "Python 3",
   "language": "python",
   "name": "python3"
  },
  "language_info": {
   "codemirror_mode": {
    "name": "ipython",
    "version": 3
   },
   "file_extension": ".py",
   "mimetype": "text/x-python",
   "name": "python",
   "nbconvert_exporter": "python",
   "pygments_lexer": "ipython3",
   "version": "3.6.1"
  }
 },
 "nbformat": 4,
 "nbformat_minor": 2
}
