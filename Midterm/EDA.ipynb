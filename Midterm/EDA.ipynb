{
 "cells": [
  {
   "cell_type": "code",
   "execution_count": 14,
   "metadata": {
    "collapsed": true
   },
   "outputs": [],
   "source": [
    "import pandas as pd\n",
    "import matplotlib.pyplot as plt\n",
    "import numpy as np\n",
    "from datetime import datetime, date\n",
    "import seaborn as sns\n",
    "\n",
    "%matplotlib inline\n",
    "plt.rcParams['figure.figsize'] = (12,8)\n",
    "\n",
    "pd.set_option('display.max_columns', None)\n",
    "pd.set_option('display.max_rows', None)"
   ]
  },
  {
   "cell_type": "code",
   "execution_count": null,
   "metadata": {
    "collapsed": true
   },
   "outputs": [],
   "source": []
  },
  {
   "cell_type": "code",
   "execution_count": 3,
   "metadata": {
    "collapsed": true
   },
   "outputs": [],
   "source": [
    "orig_col_headers = ['credit_score', 'first_payment_date', 'first_time_homebuyer_flag', 'maturity_date', 'metropolitan_stat_area', 'mortgage_insurance_perc', 'no_unit', 'occupancy_status', 'orig_combined_loantovalue', 'orig_debttoincome', 'orig_upb', 'orig_loantovalue', 'orig_interest_rate', 'channel', 'prepayment_penalty_mortgage_flag', 'product_type', 'property_state', 'property_type', 'postal_code', 'loan_sequence_no', 'loan_purpose', 'orig_loan_term', 'no_borrower', 'seller_name', 'service_name', 'super_conforming_flag']"
   ]
  },
  {
   "cell_type": "code",
   "execution_count": 4,
   "metadata": {
    "collapsed": true
   },
   "outputs": [],
   "source": [
    "perform_col_headers = ['loan_sequence_no', 'monthly_reporting_period', 'curr_actual_upb', 'curr_loan_delinquency_status', 'loan_age', 'remaining_months_to_legal_maturity', 'repurchase_flag', 'modification_flag', 'zero_balance_code', 'zero_balance_effective_date', 'curr_interest_rate', 'curr_deferred_upb', 'due_date_last_paid_installment', 'mi_recoveries', 'net_sales_proceeds', 'non_mi_recoveries', 'expenses', 'legal_costs', 'maintain_preserve_costs', 'tax_insurance', 'miscellaneous_expense', 'actual_loss_calculation', 'modification_cost']"
   ]
  },
  {
   "cell_type": "code",
   "execution_count": null,
   "metadata": {
    "collapsed": true
   },
   "outputs": [],
   "source": []
  },
  {
   "cell_type": "code",
   "execution_count": null,
   "metadata": {
    "collapsed": true
   },
   "outputs": [],
   "source": [
    "# Legacy\n",
    "orig_file_list = ['historical_data1_Q{0}{1}/historical_data1_time_Q{0}{1}.txt'.format(quarter, year) for quarter in range(1, 5) for year in range(2007, 2010)]\n",
    "orig_df_list = [pd.read_csv(file, sep='|', names=orig_col_headers) for file in orig_file_list]\n",
    "orig_concat_df = pd.concat(orig_df_list, ignore_index=True)"
   ]
  },
  {
   "cell_type": "code",
   "execution_count": null,
   "metadata": {
    "collapsed": true
   },
   "outputs": [],
   "source": []
  },
  {
   "cell_type": "code",
   "execution_count": 15,
   "metadata": {
    "collapsed": true
   },
   "outputs": [],
   "source": [
    "orig_df_list = []\n",
    "perf_df_list = []\n",
    "\n",
    "for year in range(2007, 2010):\n",
    "    for quarter in range(1, 5):\n",
    "        orig_file = 'historical_data1_Q{0}{1}/historical_data1_Q{0}{1}_clean.csv'.format(quarter, year)\n",
    "        orig_df = pd.read_csv(orig_file)\n",
    "        orig_df['year'] = year\n",
    "        orig_df['quarter'] = 'Q{0}'.format(quarter)\n",
    "        orig_df_list.append(orig_df)\n",
    "        \n",
    "orig_concat_df = pd.concat(orig_df_list, ignore_index=True)"
   ]
  },
  {
   "cell_type": "code",
   "execution_count": null,
   "metadata": {
    "collapsed": true
   },
   "outputs": [],
   "source": []
  },
  {
   "cell_type": "code",
   "execution_count": 16,
   "metadata": {},
   "outputs": [
    {
     "data": {
      "text/html": [
       "<div>\n",
       "<style>\n",
       "    .dataframe thead tr:only-child th {\n",
       "        text-align: right;\n",
       "    }\n",
       "\n",
       "    .dataframe thead th {\n",
       "        text-align: left;\n",
       "    }\n",
       "\n",
       "    .dataframe tbody tr th {\n",
       "        vertical-align: top;\n",
       "    }\n",
       "</style>\n",
       "<table border=\"1\" class=\"dataframe\">\n",
       "  <thead>\n",
       "    <tr style=\"text-align: right;\">\n",
       "      <th></th>\n",
       "      <th>credit_score</th>\n",
       "      <th>first_payment_date</th>\n",
       "      <th>first_time_homebuyer_flag</th>\n",
       "      <th>maturity_date</th>\n",
       "      <th>metropolitan_stat_area</th>\n",
       "      <th>mortgage_insurance_perc</th>\n",
       "      <th>no_unit</th>\n",
       "      <th>occupancy_status</th>\n",
       "      <th>orig_combined_loantovalue</th>\n",
       "      <th>orig_debttoincome</th>\n",
       "      <th>orig_upb</th>\n",
       "      <th>orig_loantovalue</th>\n",
       "      <th>orig_interest_rate</th>\n",
       "      <th>channel</th>\n",
       "      <th>prepayment_penalty_mortgage_flag</th>\n",
       "      <th>product_type</th>\n",
       "      <th>property_state</th>\n",
       "      <th>property_type</th>\n",
       "      <th>postal_code</th>\n",
       "      <th>loan_sequence_no</th>\n",
       "      <th>loan_purpose</th>\n",
       "      <th>orig_loan_term</th>\n",
       "      <th>no_borrower</th>\n",
       "      <th>seller_name</th>\n",
       "      <th>service_name</th>\n",
       "      <th>year</th>\n",
       "      <th>quarter</th>\n",
       "    </tr>\n",
       "  </thead>\n",
       "  <tbody>\n",
       "    <tr>\n",
       "      <th>0</th>\n",
       "      <td>681</td>\n",
       "      <td>200703</td>\n",
       "      <td>Y</td>\n",
       "      <td>203702</td>\n",
       "      <td>48424.0</td>\n",
       "      <td>30</td>\n",
       "      <td>1.0</td>\n",
       "      <td>O</td>\n",
       "      <td>95</td>\n",
       "      <td>46</td>\n",
       "      <td>271000</td>\n",
       "      <td>95</td>\n",
       "      <td>7.125</td>\n",
       "      <td>R</td>\n",
       "      <td>N</td>\n",
       "      <td>FRM</td>\n",
       "      <td>FL</td>\n",
       "      <td>PU</td>\n",
       "      <td>33400.0</td>\n",
       "      <td>F107Q1000001</td>\n",
       "      <td>P</td>\n",
       "      <td>360</td>\n",
       "      <td>1.0</td>\n",
       "      <td>Other sellers</td>\n",
       "      <td>Other servicers</td>\n",
       "      <td>2007</td>\n",
       "      <td>Q1</td>\n",
       "    </tr>\n",
       "    <tr>\n",
       "      <th>1</th>\n",
       "      <td>813</td>\n",
       "      <td>200703</td>\n",
       "      <td>N</td>\n",
       "      <td>203702</td>\n",
       "      <td>0.0</td>\n",
       "      <td>30</td>\n",
       "      <td>1.0</td>\n",
       "      <td>S</td>\n",
       "      <td>95</td>\n",
       "      <td>45</td>\n",
       "      <td>133000</td>\n",
       "      <td>95</td>\n",
       "      <td>6.125</td>\n",
       "      <td>R</td>\n",
       "      <td>N</td>\n",
       "      <td>FRM</td>\n",
       "      <td>OR</td>\n",
       "      <td>SF</td>\n",
       "      <td>97800.0</td>\n",
       "      <td>F107Q1000002</td>\n",
       "      <td>P</td>\n",
       "      <td>360</td>\n",
       "      <td>1.0</td>\n",
       "      <td>Other sellers</td>\n",
       "      <td>USBANKNA</td>\n",
       "      <td>2007</td>\n",
       "      <td>Q1</td>\n",
       "    </tr>\n",
       "    <tr>\n",
       "      <th>2</th>\n",
       "      <td>644</td>\n",
       "      <td>200703</td>\n",
       "      <td>Y</td>\n",
       "      <td>203702</td>\n",
       "      <td>35644.0</td>\n",
       "      <td>0</td>\n",
       "      <td>2.0</td>\n",
       "      <td>O</td>\n",
       "      <td>80</td>\n",
       "      <td>42</td>\n",
       "      <td>404000</td>\n",
       "      <td>80</td>\n",
       "      <td>6.250</td>\n",
       "      <td>R</td>\n",
       "      <td>N</td>\n",
       "      <td>FRM</td>\n",
       "      <td>NJ</td>\n",
       "      <td>SF</td>\n",
       "      <td>7000.0</td>\n",
       "      <td>F107Q1000003</td>\n",
       "      <td>P</td>\n",
       "      <td>360</td>\n",
       "      <td>2.0</td>\n",
       "      <td>Other sellers</td>\n",
       "      <td>Other servicers</td>\n",
       "      <td>2007</td>\n",
       "      <td>Q1</td>\n",
       "    </tr>\n",
       "    <tr>\n",
       "      <th>3</th>\n",
       "      <td>757</td>\n",
       "      <td>200703</td>\n",
       "      <td>N</td>\n",
       "      <td>203702</td>\n",
       "      <td>0.0</td>\n",
       "      <td>0</td>\n",
       "      <td>1.0</td>\n",
       "      <td>O</td>\n",
       "      <td>70</td>\n",
       "      <td>38</td>\n",
       "      <td>83000</td>\n",
       "      <td>70</td>\n",
       "      <td>6.375</td>\n",
       "      <td>R</td>\n",
       "      <td>N</td>\n",
       "      <td>FRM</td>\n",
       "      <td>IN</td>\n",
       "      <td>SF</td>\n",
       "      <td>47500.0</td>\n",
       "      <td>F107Q1000004</td>\n",
       "      <td>C</td>\n",
       "      <td>360</td>\n",
       "      <td>1.0</td>\n",
       "      <td>Other sellers</td>\n",
       "      <td>Other servicers</td>\n",
       "      <td>2007</td>\n",
       "      <td>Q1</td>\n",
       "    </tr>\n",
       "    <tr>\n",
       "      <th>4</th>\n",
       "      <td>800</td>\n",
       "      <td>200703</td>\n",
       "      <td>N</td>\n",
       "      <td>203702</td>\n",
       "      <td>0.0</td>\n",
       "      <td>0</td>\n",
       "      <td>1.0</td>\n",
       "      <td>O</td>\n",
       "      <td>43</td>\n",
       "      <td>37</td>\n",
       "      <td>54000</td>\n",
       "      <td>43</td>\n",
       "      <td>6.500</td>\n",
       "      <td>R</td>\n",
       "      <td>N</td>\n",
       "      <td>FRM</td>\n",
       "      <td>ME</td>\n",
       "      <td>MH</td>\n",
       "      <td>4600.0</td>\n",
       "      <td>F107Q1000005</td>\n",
       "      <td>P</td>\n",
       "      <td>360</td>\n",
       "      <td>1.0</td>\n",
       "      <td>Other sellers</td>\n",
       "      <td>Other servicers</td>\n",
       "      <td>2007</td>\n",
       "      <td>Q1</td>\n",
       "    </tr>\n",
       "  </tbody>\n",
       "</table>\n",
       "</div>"
      ],
      "text/plain": [
       "   credit_score  first_payment_date first_time_homebuyer_flag  maturity_date  \\\n",
       "0           681              200703                         Y         203702   \n",
       "1           813              200703                         N         203702   \n",
       "2           644              200703                         Y         203702   \n",
       "3           757              200703                         N         203702   \n",
       "4           800              200703                         N         203702   \n",
       "\n",
       "   metropolitan_stat_area  mortgage_insurance_perc  no_unit occupancy_status  \\\n",
       "0                 48424.0                       30      1.0                O   \n",
       "1                     0.0                       30      1.0                S   \n",
       "2                 35644.0                        0      2.0                O   \n",
       "3                     0.0                        0      1.0                O   \n",
       "4                     0.0                        0      1.0                O   \n",
       "\n",
       "   orig_combined_loantovalue  orig_debttoincome  orig_upb  orig_loantovalue  \\\n",
       "0                         95                 46    271000                95   \n",
       "1                         95                 45    133000                95   \n",
       "2                         80                 42    404000                80   \n",
       "3                         70                 38     83000                70   \n",
       "4                         43                 37     54000                43   \n",
       "\n",
       "   orig_interest_rate channel prepayment_penalty_mortgage_flag product_type  \\\n",
       "0               7.125       R                                N          FRM   \n",
       "1               6.125       R                                N          FRM   \n",
       "2               6.250       R                                N          FRM   \n",
       "3               6.375       R                                N          FRM   \n",
       "4               6.500       R                                N          FRM   \n",
       "\n",
       "  property_state property_type  postal_code loan_sequence_no loan_purpose  \\\n",
       "0             FL            PU      33400.0     F107Q1000001            P   \n",
       "1             OR            SF      97800.0     F107Q1000002            P   \n",
       "2             NJ            SF       7000.0     F107Q1000003            P   \n",
       "3             IN            SF      47500.0     F107Q1000004            C   \n",
       "4             ME            MH       4600.0     F107Q1000005            P   \n",
       "\n",
       "   orig_loan_term  no_borrower    seller_name     service_name  year quarter  \n",
       "0             360          1.0  Other sellers  Other servicers  2007      Q1  \n",
       "1             360          1.0  Other sellers         USBANKNA  2007      Q1  \n",
       "2             360          2.0  Other sellers  Other servicers  2007      Q1  \n",
       "3             360          1.0  Other sellers  Other servicers  2007      Q1  \n",
       "4             360          1.0  Other sellers  Other servicers  2007      Q1  "
      ]
     },
     "execution_count": 16,
     "metadata": {},
     "output_type": "execute_result"
    }
   ],
   "source": [
    "orig_concat_df.head()"
   ]
  },
  {
   "cell_type": "code",
   "execution_count": null,
   "metadata": {
    "collapsed": true
   },
   "outputs": [],
   "source": []
  },
  {
   "cell_type": "markdown",
   "metadata": {},
   "source": [
    "#### Original UPB vs Quarter, Year"
   ]
  },
  {
   "cell_type": "code",
   "execution_count": 17,
   "metadata": {},
   "outputs": [
    {
     "data": {
      "text/html": [
       "<div>\n",
       "<style>\n",
       "    .dataframe thead tr:only-child th {\n",
       "        text-align: right;\n",
       "    }\n",
       "\n",
       "    .dataframe thead th {\n",
       "        text-align: left;\n",
       "    }\n",
       "\n",
       "    .dataframe tbody tr th {\n",
       "        vertical-align: top;\n",
       "    }\n",
       "</style>\n",
       "<table border=\"1\" class=\"dataframe\">\n",
       "  <thead>\n",
       "    <tr style=\"text-align: right;\">\n",
       "      <th>quarter</th>\n",
       "      <th>Q1</th>\n",
       "      <th>Q2</th>\n",
       "      <th>Q3</th>\n",
       "      <th>Q4</th>\n",
       "    </tr>\n",
       "    <tr>\n",
       "      <th>year</th>\n",
       "      <th></th>\n",
       "      <th></th>\n",
       "      <th></th>\n",
       "      <th></th>\n",
       "    </tr>\n",
       "  </thead>\n",
       "  <tbody>\n",
       "    <tr>\n",
       "      <th>2007</th>\n",
       "      <td>184353.621069</td>\n",
       "      <td>181350.261439</td>\n",
       "      <td>177580.357111</td>\n",
       "      <td>190836.389339</td>\n",
       "    </tr>\n",
       "    <tr>\n",
       "      <th>2008</th>\n",
       "      <td>203238.287599</td>\n",
       "      <td>202256.655613</td>\n",
       "      <td>198830.514814</td>\n",
       "      <td>211877.664549</td>\n",
       "    </tr>\n",
       "    <tr>\n",
       "      <th>2009</th>\n",
       "      <td>219418.163673</td>\n",
       "      <td>214826.992762</td>\n",
       "      <td>207785.704931</td>\n",
       "      <td>212472.123044</td>\n",
       "    </tr>\n",
       "  </tbody>\n",
       "</table>\n",
       "</div>"
      ],
      "text/plain": [
       "quarter             Q1             Q2             Q3             Q4\n",
       "year                                                               \n",
       "2007     184353.621069  181350.261439  177580.357111  190836.389339\n",
       "2008     203238.287599  202256.655613  198830.514814  211877.664549\n",
       "2009     219418.163673  214826.992762  207785.704931  212472.123044"
      ]
     },
     "execution_count": 17,
     "metadata": {},
     "output_type": "execute_result"
    }
   ],
   "source": [
    "orig_upb_df = orig_concat_df.groupby(['year', 'quarter'])['orig_upb'].mean().unstack('quarter')\n",
    "orig_upb_df.head()"
   ]
  },
  {
   "cell_type": "code",
   "execution_count": 51,
   "metadata": {},
   "outputs": [
    {
     "data": {
      "text/plain": [
       "<matplotlib.axes._subplots.AxesSubplot at 0x19c0d6b5908>"
      ]
     },
     "execution_count": 51,
     "metadata": {},
     "output_type": "execute_result"
    },
    {
     "data": {
      "image/png": "[encoded data removed]",
      "text/plain": [
       "<matplotlib.figure.Figure at 0x19c0d696240>"
      ]
     },
     "metadata": {},
     "output_type": "display_data"
    }
   ],
   "source": [
    "orig_upb_df.plot(kind='bar', stacked=True)"
   ]
  },
  {
   "cell_type": "markdown",
   "metadata": {},
   "source": [
    "Original Upb increased in the three years, probably indicating the economic recession had less and less effect. There is no significant difference among the four quarters."
   ]
  },
  {
   "cell_type": "code",
   "execution_count": null,
   "metadata": {
    "collapsed": true
   },
   "outputs": [],
   "source": []
  },
  {
   "cell_type": "markdown",
   "metadata": {},
   "source": [
    "Original Interest Rate vs Quarter, Year"
   ]
  },
  {
   "cell_type": "code",
   "execution_count": 68,
   "metadata": {},
   "outputs": [
    {
     "data": {
      "text/html": [
       "<div>\n",
       "<style>\n",
       "    .dataframe thead tr:only-child th {\n",
       "        text-align: right;\n",
       "    }\n",
       "\n",
       "    .dataframe thead th {\n",
       "        text-align: left;\n",
       "    }\n",
       "\n",
       "    .dataframe tbody tr th {\n",
       "        vertical-align: top;\n",
       "    }\n",
       "</style>\n",
       "<table border=\"1\" class=\"dataframe\">\n",
       "  <thead>\n",
       "    <tr style=\"text-align: right;\">\n",
       "      <th>quarter</th>\n",
       "      <th>Q1</th>\n",
       "      <th>Q2</th>\n",
       "      <th>Q3</th>\n",
       "      <th>Q4</th>\n",
       "    </tr>\n",
       "    <tr>\n",
       "      <th>year</th>\n",
       "      <th></th>\n",
       "      <th></th>\n",
       "      <th></th>\n",
       "      <th></th>\n",
       "    </tr>\n",
       "  </thead>\n",
       "  <tbody>\n",
       "    <tr>\n",
       "      <th>2007</th>\n",
       "      <td>6.206453</td>\n",
       "      <td>6.294015</td>\n",
       "      <td>6.663508</td>\n",
       "      <td>6.357477</td>\n",
       "    </tr>\n",
       "    <tr>\n",
       "      <th>2008</th>\n",
       "      <td>5.878383</td>\n",
       "      <td>6.023509</td>\n",
       "      <td>6.418933</td>\n",
       "      <td>5.909702</td>\n",
       "    </tr>\n",
       "    <tr>\n",
       "      <th>2009</th>\n",
       "      <td>4.939941</td>\n",
       "      <td>4.849873</td>\n",
       "      <td>5.125566</td>\n",
       "      <td>4.926026</td>\n",
       "    </tr>\n",
       "  </tbody>\n",
       "</table>\n",
       "</div>"
      ],
      "text/plain": [
       "quarter        Q1        Q2        Q3        Q4\n",
       "year                                           \n",
       "2007     6.206453  6.294015  6.663508  6.357477\n",
       "2008     5.878383  6.023509  6.418933  5.909702\n",
       "2009     4.939941  4.849873  5.125566  4.926026"
      ]
     },
     "execution_count": 68,
     "metadata": {},
     "output_type": "execute_result"
    }
   ],
   "source": [
    "orig_interest_rate_df = orig_concat_df.groupby(['year', 'quarter'])['orig_interest_rate'].mean().unstack('quarter')\n",
    "orig_interest_rate_df.head()"
   ]
  },
  {
   "cell_type": "code",
   "execution_count": 69,
   "metadata": {},
   "outputs": [
    {
     "data": {
      "text/plain": [
       "<matplotlib.axes._subplots.AxesSubplot at 0x19c12cd6f98>"
      ]
     },
     "execution_count": 69,
     "metadata": {},
     "output_type": "execute_result"
    },
    {
     "data": {
      "image/png": "[encoded data removed]",
      "text/plain": [
       "<matplotlib.figure.Figure at 0x19c12ce39b0>"
      ]
     },
     "metadata": {},
     "output_type": "display_data"
    }
   ],
   "source": [
    "orig_interest_rate_df.plot(kind='bar', stacked=True)"
   ]
  },
  {
   "cell_type": "markdown",
   "metadata": {},
   "source": [
    "The interest rate decreased, indicating the subprime mortgage crisis moderated. Again four quarters basically have similar data."
   ]
  },
  {
   "cell_type": "code",
   "execution_count": null,
   "metadata": {
    "collapsed": true
   },
   "outputs": [],
   "source": []
  },
  {
   "cell_type": "markdown",
   "metadata": {},
   "source": [
    "Correlation Coefficient"
   ]
  },
  {
   "cell_type": "code",
   "execution_count": 55,
   "metadata": {},
   "outputs": [
    {
     "data": {
      "text/html": [
       "<div>\n",
       "<style>\n",
       "    .dataframe thead tr:only-child th {\n",
       "        text-align: right;\n",
       "    }\n",
       "\n",
       "    .dataframe thead th {\n",
       "        text-align: left;\n",
       "    }\n",
       "\n",
       "    .dataframe tbody tr th {\n",
       "        vertical-align: top;\n",
       "    }\n",
       "</style>\n",
       "<table border=\"1\" class=\"dataframe\">\n",
       "  <thead>\n",
       "    <tr style=\"text-align: right;\">\n",
       "      <th></th>\n",
       "      <th>col_labels</th>\n",
       "      <th>corr_values</th>\n",
       "    </tr>\n",
       "  </thead>\n",
       "  <tbody>\n",
       "    <tr>\n",
       "      <th>3</th>\n",
       "      <td>orig_upb</td>\n",
       "      <td>-0.156732</td>\n",
       "    </tr>\n",
       "    <tr>\n",
       "      <th>2</th>\n",
       "      <td>orig_debttoincome</td>\n",
       "      <td>0.235741</td>\n",
       "    </tr>\n",
       "    <tr>\n",
       "      <th>0</th>\n",
       "      <td>mortgage_insurance_perc</td>\n",
       "      <td>0.248691</td>\n",
       "    </tr>\n",
       "    <tr>\n",
       "      <th>1</th>\n",
       "      <td>orig_combined_loantovalue</td>\n",
       "      <td>0.250467</td>\n",
       "    </tr>\n",
       "    <tr>\n",
       "      <th>4</th>\n",
       "      <td>orig_loantovalue</td>\n",
       "      <td>0.250647</td>\n",
       "    </tr>\n",
       "  </tbody>\n",
       "</table>\n",
       "</div>"
      ],
      "text/plain": [
       "                  col_labels  corr_values\n",
       "3                   orig_upb    -0.156732\n",
       "2          orig_debttoincome     0.235741\n",
       "0    mortgage_insurance_perc     0.248691\n",
       "1  orig_combined_loantovalue     0.250467\n",
       "4           orig_loantovalue     0.250647"
      ]
     },
     "execution_count": 55,
     "metadata": {},
     "output_type": "execute_result"
    }
   ],
   "source": [
    "x_cols = ['mortgage_insurance_perc', 'orig_combined_loantovalue', 'orig_debttoincome', 'orig_upb', 'orig_loantovalue']\n",
    "\n",
    "labels = []\n",
    "values = []\n",
    "\n",
    "for col in x_cols:\n",
    "    labels.append(col)\n",
    "    values.append(np.corrcoef(orig_concat_df[col].values, orig_concat_df['orig_interest_rate'].values)[0,1])\n",
    "    \n",
    "corr_df = pd.DataFrame({'col_labels':labels, 'corr_values':values}).sort_values(by='corr_values')\n",
    "corr_df"
   ]
  },
  {
   "cell_type": "markdown",
   "metadata": {},
   "source": [
    "There is no strong correlation between these columns above and interest rate. But we can see which column has positive and negative with interest rate."
   ]
  },
  {
   "cell_type": "code",
   "execution_count": null,
   "metadata": {
    "collapsed": true
   },
   "outputs": [],
   "source": []
  },
  {
   "cell_type": "code",
   "execution_count": 56,
   "metadata": {},
   "outputs": [
    {
     "data": {
      "image/png": "[encoded data removed]",
      "text/plain": [
       "<matplotlib.figure.Figure at 0x19c0f581828>"
      ]
     },
     "metadata": {},
     "output_type": "display_data"
    }
   ],
   "source": [
    "temp_df = orig_concat_df[corr_df['col_labels']]\n",
    "corrmat = temp_df.corr(method='spearman')\n",
    "f, ax = plt.subplots(figsize=(8, 8))\n",
    "\n",
    "sns.heatmap(corrmat, vmax=1., square=True)\n",
    "plt.title(\"Important variables correlation map\", fontsize=15)\n",
    "plt.show()"
   ]
  },
  {
   "cell_type": "code",
   "execution_count": null,
   "metadata": {
    "collapsed": true
   },
   "outputs": [],
   "source": []
  },
  {
   "cell_type": "code",
   "execution_count": 54,
   "metadata": {},
   "outputs": [
    {
     "data": {
      "text/plain": [
       "<seaborn.axisgrid.JointGrid at 0x19c0d69cf98>"
      ]
     },
     "execution_count": 54,
     "metadata": {},
     "output_type": "execute_result"
    },
    {
     "data": {
      "image/png": "[encoded data removed]",
      "text/plain": [
       "<matplotlib.figure.Figure at 0x19c0d69cef0>"
      ]
     },
     "metadata": {},
     "output_type": "display_data"
    }
   ],
   "source": [
    "sns.jointplot(x='credit_score', y='orig_interest_rate', data=orig_concat_df)"
   ]
  },
  {
   "cell_type": "markdown",
   "metadata": {},
   "source": [
    "There is no strong pattern between credit_socre and original interest rate."
   ]
  },
  {
   "cell_type": "code",
   "execution_count": null,
   "metadata": {
    "collapsed": true
   },
   "outputs": [],
   "source": []
  },
  {
   "cell_type": "code",
   "execution_count": 22,
   "metadata": {},
   "outputs": [
    {
     "data": {
      "text/plain": [
       "<matplotlib.axes._subplots.AxesSubplot at 0x230304a4ba8>"
      ]
     },
     "execution_count": 22,
     "metadata": {},
     "output_type": "execute_result"
    },
    {
     "data": {
      "image/png": "[encoded data removed]",
      "text/plain": [
       "<matplotlib.figure.Figure at 0x230304a0ba8>"
      ]
     },
     "metadata": {},
     "output_type": "display_data"
    }
   ],
   "source": [
    "sns.regplot(x='orig_loantovalue', y='orig_interest_rate', data=orig_concat_df, scatter_kws={\"s\": 10, \"color\":\"orange\"}, line_kws={\"color\":\"black\"})"
   ]
  },
  {
   "cell_type": "markdown",
   "metadata": {},
   "source": [
    "High loan to value indicates the people's deficiency of funds, which leads to higher interest rate."
   ]
  },
  {
   "cell_type": "code",
   "execution_count": null,
   "metadata": {
    "collapsed": true
   },
   "outputs": [],
   "source": []
  },
  {
   "cell_type": "code",
   "execution_count": 18,
   "metadata": {
    "collapsed": true
   },
   "outputs": [],
   "source": [
    "import plotly\n",
    "plotly.tools.set_credentials_file(username = 'liujiahua2014', api_key = 'c5QSIWnrF9HmSEoPnwMY')"
   ]
  },
  {
   "cell_type": "code",
   "execution_count": 19,
   "metadata": {
    "collapsed": true
   },
   "outputs": [],
   "source": [
    "def plotStateMap(df, col, state_col):\n",
    "\n",
    "    data = [dict(type='choropleth',\n",
    "                 locations = df[state_col],\n",
    "                 locationmode = 'USA-states',\n",
    "                 z = df[col],\n",
    "                 text = df[state_col],\n",
    "                 colorbar = {'title': 'avgOrigUPB'},\n",
    "                 colorscale = 'Viridis',\n",
    "                 reversescale = True)]\n",
    "\n",
    "    layout = dict(title = col,\n",
    "                  geo = dict(showframe=False, scope='usa',\n",
    "                             projection=dict(type = 'albers usa')))\n",
    "\n",
    "    figure = dict(data = data, layout = layout)\n",
    "    return figure"
   ]
  },
  {
   "cell_type": "code",
   "execution_count": null,
   "metadata": {
    "collapsed": true
   },
   "outputs": [],
   "source": []
  },
  {
   "cell_type": "markdown",
   "metadata": {},
   "source": [
    "Original UPB State Map"
   ]
  },
  {
   "cell_type": "code",
   "execution_count": 67,
   "metadata": {},
   "outputs": [
    {
     "data": {
      "text/html": [
       "<iframe id=\"igraph\" scrolling=\"no\" style=\"border:none;\" seamless=\"seamless\" src=\"https://plot.ly/~liujiahua2014/12.embed\" height=\"525px\" width=\"100%\"></iframe>"
      ],
      "text/plain": [
       "<plotly.tools.PlotlyDisplay object>"
      ]
     },
     "execution_count": 67,
     "metadata": {},
     "output_type": "execute_result"
    }
   ],
   "source": [
    "state_df = orig_concat_df.groupby('property_state')['orig_upb'].mean().reset_index()\n",
    "fig = plotStateMap(state_df, 'orig_upb', 'property_state')\n",
    "plotly.plotly.iplot(fig)"
   ]
  },
  {
   "cell_type": "markdown",
   "metadata": {},
   "source": [
    "East and west coast give higher UPB than in the middle area."
   ]
  },
  {
   "cell_type": "code",
   "execution_count": null,
   "metadata": {
    "collapsed": true
   },
   "outputs": [],
   "source": []
  },
  {
   "cell_type": "markdown",
   "metadata": {},
   "source": [
    "Original Interest Rate State Map"
   ]
  },
  {
   "cell_type": "code",
   "execution_count": 20,
   "metadata": {},
   "outputs": [
    {
     "data": {
      "text/html": [
       "<iframe id=\"igraph\" scrolling=\"no\" style=\"border:none;\" seamless=\"seamless\" src=\"https://plot.ly/~liujiahua2014/14.embed\" height=\"525px\" width=\"100%\"></iframe>"
      ],
      "text/plain": [
       "<plotly.tools.PlotlyDisplay object>"
      ]
     },
     "execution_count": 20,
     "metadata": {},
     "output_type": "execute_result"
    }
   ],
   "source": [
    "state_df = orig_concat_df.groupby('property_state')['orig_interest_rate'].mean().reset_index()\n",
    "fig = plotStateMap(state_df, 'orig_interest_rate', 'property_state')\n",
    "plotly.plotly.iplot(fig)"
   ]
  },
  {
   "cell_type": "markdown",
   "metadata": {},
   "source": [
    "Southern USA seems to have higher interest rate for property mortgate."
   ]
  },
  {
   "cell_type": "code",
   "execution_count": null,
   "metadata": {
    "collapsed": true
   },
   "outputs": [],
   "source": []
  },
  {
   "cell_type": "markdown",
   "metadata": {},
   "source": [
    "Mortgage Insurance Percentage State Map"
   ]
  },
  {
   "cell_type": "code",
   "execution_count": 21,
   "metadata": {},
   "outputs": [
    {
     "data": {
      "text/html": [
       "<iframe id=\"igraph\" scrolling=\"no\" style=\"border:none;\" seamless=\"seamless\" src=\"https://plot.ly/~liujiahua2014/16.embed\" height=\"525px\" width=\"100%\"></iframe>"
      ],
      "text/plain": [
       "<plotly.tools.PlotlyDisplay object>"
      ]
     },
     "execution_count": 21,
     "metadata": {},
     "output_type": "execute_result"
    }
   ],
   "source": [
    "state_df = orig_concat_df.groupby('property_state')['mortgage_insurance_perc'].mean().reset_index()\n",
    "fig = plotStateMap(state_df, 'mortgage_insurance_perc', 'property_state')\n",
    "plotly.plotly.iplot(fig)"
   ]
  },
  {
   "cell_type": "markdown",
   "metadata": {},
   "source": [
    "Wealthier states, (CA, MA, NY), have lower mortgage insurance percentage than the rest."
   ]
  },
  {
   "cell_type": "code",
   "execution_count": null,
   "metadata": {
    "collapsed": true
   },
   "outputs": [],
   "source": []
  },
  {
   "cell_type": "code",
   "execution_count": 6,
   "metadata": {
    "collapsed": true
   },
   "outputs": [],
   "source": [
    "from collections import OrderedDict"
   ]
  },
  {
   "cell_type": "code",
   "execution_count": null,
   "metadata": {
    "collapsed": true
   },
   "outputs": [],
   "source": []
  },
  {
   "cell_type": "markdown",
   "metadata": {},
   "source": [
    "# Performance Data"
   ]
  },
  {
   "cell_type": "code",
   "execution_count": 7,
   "metadata": {},
   "outputs": [
    {
     "name": "stdout",
     "output_type": "stream",
     "text": [
      "[2007, 1]\n",
      "[2007, 2]\n",
      "[2007, 3]\n",
      "[2007, 4]\n",
      "[2008, 1]\n"
     ]
    },
    {
     "name": "stderr",
     "output_type": "stream",
     "text": [
      "C:\\Users\\liuji\\Anaconda3\\lib\\site-packages\\IPython\\core\\interactiveshell.py:2717: DtypeWarning: Columns (3) have mixed types. Specify dtype option on import or set low_memory=False.\n",
      "  interactivity=interactivity, compiler=compiler, result=result)\n"
     ]
    },
    {
     "name": "stdout",
     "output_type": "stream",
     "text": [
      "[2008, 2]\n",
      "[2008, 3]\n",
      "[2008, 4]\n",
      "[2009, 1]\n",
      "[2009, 2]\n",
      "[2009, 3]\n",
      "[2009, 4]\n"
     ]
    }
   ],
   "source": [
    "perf_summary_list = []\n",
    "\n",
    "for year in range(2007, 2010):\n",
    "    for quarter in range(1, 5):\n",
    "        perf_file = 'historical_data1_Q{0}{1}/historical_data1_time_Q{0}{1}_clean.csv'.format(quarter, year)\n",
    "        perf_df = pd.read_csv(perf_file)\n",
    "        \n",
    "        perf_summary_dict = OrderedDict()\n",
    "        \n",
    "        perf_summary_dict['year'] = year\n",
    "        perf_summary_dict['quarter'] = 'Q{0}'.format(quarter)\n",
    "        \n",
    "        perf_df['curr_loan_delinquency_status'] = perf_df['curr_loan_delinquency_status'].astype(str)\n",
    "        nonDelinquencyRatio = perf_df[perf_df['curr_loan_delinquency_status'] == '0']['curr_loan_delinquency_status'].count() / perf_df.shape[0]\n",
    "        perf_summary_dict['nonDelinquencyRatio'] = nonDelinquencyRatio\n",
    "\n",
    "        interest_rate_df = perf_df.groupby(['loan_sequence_no'])['curr_interest_rate'].mean().reset_index()\n",
    "        avgCurrInterestRate = interest_rate_df['curr_interest_rate'].mean()\n",
    "        perf_summary_dict['avgCurrInterestRate'] = avgCurrInterestRate\n",
    "\n",
    "        perf_summary_list.append(perf_summary_dict)\n",
    "        print([year, quarter])\n",
    "\n",
    "perf_summary_df = pd.DataFrame(perf_summary_list)"
   ]
  },
  {
   "cell_type": "code",
   "execution_count": null,
   "metadata": {
    "collapsed": true
   },
   "outputs": [],
   "source": []
  },
  {
   "cell_type": "markdown",
   "metadata": {},
   "source": [
    "#### Average Interest Rate vs Quarter, Year"
   ]
  },
  {
   "cell_type": "code",
   "execution_count": 9,
   "metadata": {},
   "outputs": [
    {
     "data": {
      "text/html": [
       "<div>\n",
       "<style>\n",
       "    .dataframe thead tr:only-child th {\n",
       "        text-align: right;\n",
       "    }\n",
       "\n",
       "    .dataframe thead th {\n",
       "        text-align: left;\n",
       "    }\n",
       "\n",
       "    .dataframe tbody tr th {\n",
       "        vertical-align: top;\n",
       "    }\n",
       "</style>\n",
       "<table border=\"1\" class=\"dataframe\">\n",
       "  <thead>\n",
       "    <tr style=\"text-align: right;\">\n",
       "      <th>quarter</th>\n",
       "      <th>Q1</th>\n",
       "      <th>Q2</th>\n",
       "      <th>Q3</th>\n",
       "      <th>Q4</th>\n",
       "    </tr>\n",
       "    <tr>\n",
       "      <th>year</th>\n",
       "      <th></th>\n",
       "      <th></th>\n",
       "      <th></th>\n",
       "      <th></th>\n",
       "    </tr>\n",
       "  </thead>\n",
       "  <tbody>\n",
       "    <tr>\n",
       "      <th>2007</th>\n",
       "      <td>6.081672</td>\n",
       "      <td>6.155945</td>\n",
       "      <td>6.499555</td>\n",
       "      <td>6.191826</td>\n",
       "    </tr>\n",
       "    <tr>\n",
       "      <th>2008</th>\n",
       "      <td>5.777777</td>\n",
       "      <td>5.934015</td>\n",
       "      <td>6.321374</td>\n",
       "      <td>5.843157</td>\n",
       "    </tr>\n",
       "    <tr>\n",
       "      <th>2009</th>\n",
       "      <td>4.912622</td>\n",
       "      <td>4.835811</td>\n",
       "      <td>5.113542</td>\n",
       "      <td>4.935705</td>\n",
       "    </tr>\n",
       "  </tbody>\n",
       "</table>\n",
       "</div>"
      ],
      "text/plain": [
       "quarter        Q1        Q2        Q3        Q4\n",
       "year                                           \n",
       "2007     6.081672  6.155945  6.499555  6.191826\n",
       "2008     5.777777  5.934015  6.321374  5.843157\n",
       "2009     4.912622  4.835811  5.113542  4.935705"
      ]
     },
     "execution_count": 9,
     "metadata": {},
     "output_type": "execute_result"
    }
   ],
   "source": [
    "perf_interest_rate_df = perf_summary_df.groupby(['year', 'quarter'])['avgCurrInterestRate'].mean().unstack('quarter')\n",
    "perf_interest_rate_df.head()"
   ]
  },
  {
   "cell_type": "code",
   "execution_count": 10,
   "metadata": {},
   "outputs": [
    {
     "data": {
      "text/plain": [
       "<matplotlib.axes._subplots.AxesSubplot at 0x230385d5dd8>"
      ]
     },
     "execution_count": 10,
     "metadata": {},
     "output_type": "execute_result"
    },
    {
     "data": {
      "image/png": "[encoded data removed]",
      "text/plain": [
       "<matplotlib.figure.Figure at 0x230385d5160>"
      ]
     },
     "metadata": {},
     "output_type": "display_data"
    }
   ],
   "source": [
    "perf_interest_rate_df.plot(kind='bar', stacked=True)"
   ]
  },
  {
   "cell_type": "markdown",
   "metadata": {},
   "source": [
    "Interest rate descended within the time period, which is the same as in the origination data."
   ]
  },
  {
   "cell_type": "code",
   "execution_count": null,
   "metadata": {
    "collapsed": true
   },
   "outputs": [],
   "source": []
  },
  {
   "cell_type": "markdown",
   "metadata": {},
   "source": [
    "#### Non-delinquency Ratio vs Quarter, Year"
   ]
  },
  {
   "cell_type": "code",
   "execution_count": 11,
   "metadata": {},
   "outputs": [
    {
     "data": {
      "text/html": [
       "<div>\n",
       "<style>\n",
       "    .dataframe thead tr:only-child th {\n",
       "        text-align: right;\n",
       "    }\n",
       "\n",
       "    .dataframe thead th {\n",
       "        text-align: left;\n",
       "    }\n",
       "\n",
       "    .dataframe tbody tr th {\n",
       "        vertical-align: top;\n",
       "    }\n",
       "</style>\n",
       "<table border=\"1\" class=\"dataframe\">\n",
       "  <thead>\n",
       "    <tr style=\"text-align: right;\">\n",
       "      <th>quarter</th>\n",
       "      <th>Q1</th>\n",
       "      <th>Q2</th>\n",
       "      <th>Q3</th>\n",
       "      <th>Q4</th>\n",
       "    </tr>\n",
       "    <tr>\n",
       "      <th>year</th>\n",
       "      <th></th>\n",
       "      <th></th>\n",
       "      <th></th>\n",
       "      <th></th>\n",
       "    </tr>\n",
       "  </thead>\n",
       "  <tbody>\n",
       "    <tr>\n",
       "      <th>2007</th>\n",
       "      <td>0.920169</td>\n",
       "      <td>0.911983</td>\n",
       "      <td>0.901654</td>\n",
       "      <td>0.900404</td>\n",
       "    </tr>\n",
       "    <tr>\n",
       "      <th>2008</th>\n",
       "      <td>0.930273</td>\n",
       "      <td>0.937864</td>\n",
       "      <td>0.932093</td>\n",
       "      <td>0.953924</td>\n",
       "    </tr>\n",
       "    <tr>\n",
       "      <th>2009</th>\n",
       "      <td>0.987295</td>\n",
       "      <td>0.990673</td>\n",
       "      <td>0.988521</td>\n",
       "      <td>0.989554</td>\n",
       "    </tr>\n",
       "  </tbody>\n",
       "</table>\n",
       "</div>"
      ],
      "text/plain": [
       "quarter        Q1        Q2        Q3        Q4\n",
       "year                                           \n",
       "2007     0.920169  0.911983  0.901654  0.900404\n",
       "2008     0.930273  0.937864  0.932093  0.953924\n",
       "2009     0.987295  0.990673  0.988521  0.989554"
      ]
     },
     "execution_count": 11,
     "metadata": {},
     "output_type": "execute_result"
    }
   ],
   "source": [
    "perf_non_deliquency_ratio_df = perf_summary_df.groupby(['year', 'quarter'])['nonDelinquencyRatio'].mean().unstack('quarter')\n",
    "perf_non_deliquency_ratio_df.head()"
   ]
  },
  {
   "cell_type": "code",
   "execution_count": 12,
   "metadata": {},
   "outputs": [
    {
     "data": {
      "text/plain": [
       "<matplotlib.axes._subplots.AxesSubplot at 0x230381f32e8>"
      ]
     },
     "execution_count": 12,
     "metadata": {},
     "output_type": "execute_result"
    },
    {
     "data": {
      "image/png": "[encoded data removed]",
      "text/plain": [
       "<matplotlib.figure.Figure at 0x23038344f60>"
      ]
     },
     "metadata": {},
     "output_type": "display_data"
    }
   ],
   "source": [
    "perf_non_deliquency_ratio_df.plot(kind='bar', stacked=True)"
   ]
  },
  {
   "cell_type": "markdown",
   "metadata": {},
   "source": [
    "The non-deliquency ratio ascended within the time period, showing the increase in people's ability to pay the loan."
   ]
  }
 ],
 "metadata": {
  "kernelspec": {
   "display_name": "Python 3",
   "language": "python",
   "name": "python3"
  },
  "language_info": {
   "codemirror_mode": {
    "name": "ipython",
    "version": 3
   },
   "file_extension": ".py",
   "mimetype": "text/x-python",
   "name": "python",
   "nbconvert_exporter": "python",
   "pygments_lexer": "ipython3",
   "version": "3.6.1"
  }
 },
 "nbformat": 4,
 "nbformat_minor": 2
}
